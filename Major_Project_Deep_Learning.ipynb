{
  "nbformat": 4,
  "nbformat_minor": 0,
  "metadata": {
    "kernelspec": {
      "display_name": "Python 3",
      "language": "python",
      "name": "python3"
    },
    "language_info": {
      "codemirror_mode": {
        "name": "ipython",
        "version": 3
      },
      "file_extension": ".py",
      "mimetype": "text/x-python",
      "name": "python",
      "nbconvert_exporter": "python",
      "pygments_lexer": "ipython3",
      "version": "3.6.4"
    },
    "colab": {
      "name": "Major_Project_Deep_Learning.ipynb",
      "provenance": [],
      "collapsed_sections": [
        "UhJ2e1z5CH45",
        "AS3SoAHGCH5D",
        "MkHzWfIwCH5a",
        "aNG_urIPCH5j",
        "HJeFSzrjCH5u",
        "5mJqNWtZCH57",
        "6HvfHp2-CH6F",
        "U-ML6qHyCH6N",
        "e-GRAvOqCH6X",
        "jA1eirZsCH6b",
        "YT5HFzmOCH6e",
        "LaHQp-Y_CH6j",
        "Bf5gNvS5CH6o",
        "XkckgdpaCH6w"
      ]
    }
  },
  "cells": [
    {
      "cell_type": "markdown",
      "metadata": {
        "id": "UhJ2e1z5CH45"
      },
      "source": [
        "# Loading Libraries"
      ]
    },
    {
      "cell_type": "code",
      "metadata": {
        "id": "OcTG7sUPCH5B"
      },
      "source": [
        "import numpy as np\n",
        "import pandas as pd\n",
        "import seaborn as sns\n",
        "import matplotlib.pyplot as plt\n",
        "from scipy import stats"
      ],
      "execution_count": null,
      "outputs": []
    },
    {
      "cell_type": "markdown",
      "metadata": {
        "id": "AS3SoAHGCH5D"
      },
      "source": [
        "# Data Preprocessing"
      ]
    },
    {
      "cell_type": "code",
      "metadata": {
        "id": "QsSMsLFiCH5E"
      },
      "source": [
        "df = pd.read_csv(r'deid-nicu-sepsis-tta.csv')"
      ],
      "execution_count": null,
      "outputs": []
    },
    {
      "cell_type": "code",
      "metadata": {
        "id": "wZaNYGSlCH5H"
      },
      "source": [
        "from sklearn.preprocessing import LabelEncoder\n",
        "LE = LabelEncoder()\n",
        "df['race'] = LE.fit_transform(df['race'])\n",
        "df['period'] = LE.fit_transform(df['period'])"
      ],
      "execution_count": null,
      "outputs": []
    },
    {
      "cell_type": "code",
      "metadata": {
        "id": "wtFpQg6iCH5J"
      },
      "source": [
        "df.drop('cx_site',\n",
        "  axis='columns', inplace=True)"
      ],
      "execution_count": null,
      "outputs": []
    },
    {
      "cell_type": "code",
      "metadata": {
        "id": "EpSI43pnCH5J"
      },
      "source": [
        "df['length_of_stay_hours'].fillna(df['length_of_stay_hours'].median(), inplace=True)"
      ],
      "execution_count": null,
      "outputs": []
    },
    {
      "cell_type": "code",
      "metadata": {
        "id": "TJBheoI1CH5L"
      },
      "source": [
        "df['gestational_age_at_birth_weeks'].fillna(df['gestational_age_at_birth_weeks'].mean(), inplace=True)"
      ],
      "execution_count": null,
      "outputs": []
    },
    {
      "cell_type": "code",
      "metadata": {
        "id": "hZ1KaiOqCH5M"
      },
      "source": [
        "df['temp_celsius'].fillna(df['temp_celsius'].median(), inplace=True)"
      ],
      "execution_count": null,
      "outputs": []
    },
    {
      "cell_type": "code",
      "metadata": {
        "id": "-D1qokhMCH5M"
      },
      "source": [
        "df['birth_weight_kg'].fillna(df['birth_weight_kg'].mean(), inplace=True)"
      ],
      "execution_count": null,
      "outputs": []
    },
    {
      "cell_type": "code",
      "metadata": {
        "id": "7S4FCX53CH5N"
      },
      "source": [
        "from sklearn.model_selection import train_test_split"
      ],
      "execution_count": null,
      "outputs": []
    },
    {
      "cell_type": "code",
      "metadata": {
        "id": "HZyaW_I6CH5R"
      },
      "source": [
        "df = df.drop('overall_mortality_within_7_days', axis=1)\n",
        "df = df.drop('overall_mortality_within_14_days', axis=1)\n",
        "X = df.drop('overall_mortality_within_30_days', axis=1)\n",
        "y = df.overall_mortality_within_30_days"
      ],
      "execution_count": null,
      "outputs": []
    },
    {
      "cell_type": "code",
      "metadata": {
        "id": "X_k9hWarCH5S",
        "outputId": "65b02b1c-9803-41c0-cb52-ebb96d475590"
      },
      "source": [
        "df.dtypes"
      ],
      "execution_count": null,
      "outputs": [
        {
          "output_type": "execute_result",
          "data": {
            "text/plain": [
              "episode_id                                  int64\n",
              "unique_patient_id                           int64\n",
              "sex                                         int64\n",
              "race                                        int32\n",
              "gestational_age_at_birth_weeks            float64\n",
              "birth_weight_kg                           float64\n",
              "sepsis_group                                int64\n",
              "onset_age_in_days                           int64\n",
              "onset_hour_of_day                           int64\n",
              "blood_culture_positive                      int64\n",
              "positive_days                               int64\n",
              "time_to_antibiotics                         int64\n",
              "stat_abx                                    int64\n",
              "overall_mortality_within_30_days            int64\n",
              "intubated_at_time_of_sepsis_evaluation      int64\n",
              "intubated_free_days                         int64\n",
              "inotrope_at_time_of_sepsis_eval             int64\n",
              "inotrope_free_days                          int64\n",
              "central_venous_line                         int64\n",
              "umbilical_arterial_line                     int64\n",
              "ecmo                                        int64\n",
              "temp_celsius                              float64\n",
              "length_of_stay_hours                      float64\n",
              "comorbidity_necrotizing_enterocolitis       int64\n",
              "comorbidity_chronic_lung_disease            int64\n",
              "comorbidity_cardiac                         int64\n",
              "comorbidity_surgical                        int64\n",
              "comorbidity_ivh_or_shunt                    int64\n",
              "period                                      int32\n",
              "dtype: object"
            ]
          },
          "metadata": {
            "tags": []
          },
          "execution_count": 11
        }
      ]
    },
    {
      "cell_type": "code",
      "metadata": {
        "id": "dDw8T_-BCH5U"
      },
      "source": [
        "#X_train, X_test, y_train, y_test = train_test_split(X, y, test_size=0.3, random_state=42)"
      ],
      "execution_count": null,
      "outputs": []
    },
    {
      "cell_type": "code",
      "metadata": {
        "id": "vMhQGhdHCH5V"
      },
      "source": [
        "#from sklearn.preprocessing import StandardScaler\n",
        "#scaler = StandardScaler().fit(X_train)\n",
        "#X_train = scaler.transform(X_train)\n",
        "#X_test = scaler.transform(X_test)"
      ],
      "execution_count": null,
      "outputs": []
    },
    {
      "cell_type": "code",
      "metadata": {
        "id": "pgLSRGfRCH5V",
        "outputId": "61f7bcf4-1adb-4ec4-a160-c58770f407ae"
      },
      "source": [
        "df.shape"
      ],
      "execution_count": null,
      "outputs": [
        {
          "output_type": "execute_result",
          "data": {
            "text/plain": [
              "(1946, 29)"
            ]
          },
          "metadata": {
            "tags": []
          },
          "execution_count": 14
        }
      ]
    },
    {
      "cell_type": "code",
      "metadata": {
        "id": "8o6F3wJUCH5W"
      },
      "source": [
        "from statistics import mean, stdev \n",
        "from sklearn import preprocessing \n",
        "from sklearn.model_selection import StratifiedKFold \n",
        "from sklearn import linear_model \n",
        "import pandas as pd\n",
        "import numpy as np\n",
        "import matplotlib.pyplot as plt\n",
        "import seaborn as sns\n",
        "from imblearn.over_sampling import SMOTE\n",
        "from imblearn.under_sampling import RandomUnderSampler\n",
        "from imblearn.pipeline import Pipeline\n",
        "from numpy.random import RandomState\n",
        "from sklearn.tree import DecisionTreeClassifier\n",
        "from sklearn.ensemble import RandomForestClassifier\n",
        "from sklearn.metrics import accuracy_score, precision_score, recall_score, f1_score\n",
        "from sklearn.model_selection import train_test_split, cross_val_score, cross_val_predict, StratifiedKFold\n",
        "import warnings\n",
        "warnings.filterwarnings('ignore')\n",
        "\n",
        "%matplotlib inline\n",
        "sns.set_palette(['#06B1F0', '#FC4B60'])\n",
        "random_seed = 63445\n",
        "df = pd.read_csv(r'deid-nicu-sepsis-tta.csv')\n",
        "\n",
        "\n",
        "import warnings\n",
        "import numpy as np\n",
        "from matplotlib import pyplot\n",
        "from sklearn.model_selection import KFold\n",
        "from sklearn.model_selection import cross_val_score\n",
        "from sklearn.linear_model import LogisticRegression\n",
        "from sklearn.tree import DecisionTreeClassifier\n",
        "from sklearn.neighbors import KNeighborsClassifier\n",
        "from sklearn.discriminant_analysis import LinearDiscriminantAnalysis\n",
        "from sklearn.naive_bayes import GaussianNB\n",
        "from sklearn.svm import SVC\n",
        "from sklearn.model_selection import train_test_split\n",
        "from sklearn.metrics import classification_report\n",
        "from sklearn.metrics import confusion_matrix\n",
        "from sklearn.metrics import accuracy_score\n",
        "import matplotlib.pyplot as plt\n",
        "from collections import Counter\n",
        "from imblearn.pipeline import Pipeline\n",
        "from imblearn.over_sampling import SMOTE\n",
        "from xgboost import XGBClassifier\n",
        "from imblearn.over_sampling import ADASYN"
      ],
      "execution_count": null,
      "outputs": []
    },
    {
      "cell_type": "code",
      "metadata": {
        "id": "8385lL-JCH5Z",
        "outputId": "30d2f27c-8b97-412b-fb74-a62022e12c46"
      },
      "source": [
        "X.shape"
      ],
      "execution_count": null,
      "outputs": [
        {
          "output_type": "execute_result",
          "data": {
            "text/plain": [
              "(1946, 28)"
            ]
          },
          "metadata": {
            "tags": []
          },
          "execution_count": 16
        }
      ]
    },
    {
      "cell_type": "code",
      "metadata": {
        "id": "O5_qM4VeCH5a",
        "outputId": "077536a9-e3c2-42ec-f293-6191e91877c1"
      },
      "source": [
        "sns.countplot(df['overall_mortality_within_30_days'])\n",
        "plt.show()"
      ],
      "execution_count": null,
      "outputs": [
        {
          "output_type": "display_data",
          "data": {
            "image/png": "[encoded data removed]",
            "text/plain": [
              "<matplotlib.figure.Figure at 0x26583c54400>"
            ]
          },
          "metadata": {
            "tags": []
          }
        }
      ]
    },
    {
      "cell_type": "markdown",
      "metadata": {
        "id": "MkHzWfIwCH5a"
      },
      "source": [
        "# Handling Data Imbalance - SMOTENN"
      ]
    },
    {
      "cell_type": "code",
      "metadata": {
        "id": "z5k_vN0fCH5a",
        "outputId": "0d309e34-5a59-4d79-8fc3-57f0200cffeb"
      },
      "source": [
        "def makeunderoverSample(X,Y):\n",
        "    from imblearn.combine import SMOTEENN\n",
        "    sm = SMOTEENN(random_state=0)\n",
        "    X, Y = sm.fit_resample(X, Y)\n",
        "    return(X,Y)\n",
        "\n",
        "X , Y = makeunderoverSample(X,y)\n",
        "print ('Shape of oversampled data: {}'.format(X.shape))\n",
        "print ('Shape of Y: {}'.format(Y.shape))"
      ],
      "execution_count": null,
      "outputs": [
        {
          "output_type": "stream",
          "text": [
            "Shape of oversampled data: (2963, 28)\n",
            "Shape of Y: (2963,)\n"
          ],
          "name": "stdout"
        }
      ]
    },
    {
      "cell_type": "code",
      "metadata": {
        "id": "HlPVg3ONCH5c",
        "outputId": "0a278f56-ecdf-48c1-a2f2-9895262aaf5a"
      },
      "source": [
        "sns.countplot(Y)\n",
        "plt.title('Balanced training data')\n",
        "plt.show()"
      ],
      "execution_count": null,
      "outputs": [
        {
          "output_type": "display_data",
          "data": {
            "image/png": "[encoded data removed]",
            "text/plain": [
              "<matplotlib.figure.Figure at 0x26584044b70>"
            ]
          },
          "metadata": {
            "tags": []
          }
        }
      ]
    },
    {
      "cell_type": "code",
      "metadata": {
        "id": "BozzRD8iCH5d"
      },
      "source": [
        "def count1(Y):\n",
        "    countzero=0\n",
        "    countone=0\n",
        "    for i in range(0,len(Y)):\n",
        "        if Y[i]==0:\n",
        "            countzero=countzero+1\n",
        "        elif Y[i]==1:\n",
        "            countone=countone+1\n",
        "    return countzero,countone\n",
        "\n",
        "class0, class1 = count1(Y)"
      ],
      "execution_count": null,
      "outputs": []
    },
    {
      "cell_type": "code",
      "metadata": {
        "id": "LoAbZnPaCH5g",
        "outputId": "b42c3297-61ca-4be8-bd59-38543c4132ed"
      },
      "source": [
        "print(class0,class1)"
      ],
      "execution_count": null,
      "outputs": [
        {
          "output_type": "stream",
          "text": [
            "1346 1617\n"
          ],
          "name": "stdout"
        }
      ]
    },
    {
      "cell_type": "code",
      "metadata": {
        "id": "2S-CbWHfCH5i"
      },
      "source": [
        "X_train, X_test, Y_train, Y_test = train_test_split(X, Y, \n",
        "                                                   test_size=0.3)"
      ],
      "execution_count": null,
      "outputs": []
    },
    {
      "cell_type": "code",
      "metadata": {
        "id": "4881e0qZCH5i"
      },
      "source": [
        "from sklearn.preprocessing import StandardScaler\n",
        "\n",
        "# Define the scaler \n",
        "scaler = StandardScaler().fit(X_train)\n",
        "\n",
        "# Scale the train set\n",
        "X_train = scaler.transform(X_train)\n",
        "\n",
        "# Scale the test set\n",
        "X_test = scaler.transform(X_test)"
      ],
      "execution_count": null,
      "outputs": []
    },
    {
      "cell_type": "code",
      "metadata": {
        "id": "D77E5hv4CH5j"
      },
      "source": [
        "#X_val, X_test, Y_val, Y_test = train_test_split(X_val_and_test, Y_val_and_test, test_size=0.5)"
      ],
      "execution_count": null,
      "outputs": []
    },
    {
      "cell_type": "code",
      "metadata": {
        "id": "q3QUewPpCH5j",
        "outputId": "3b517e6a-20c1-4701-d8bc-6fab3005d68e"
      },
      "source": [
        "print(X_train.shape, X_test.shape, Y_train.shape, Y_test.shape)"
      ],
      "execution_count": null,
      "outputs": [
        {
          "output_type": "stream",
          "text": [
            "(2074, 28) (889, 28) (2074,) (889,)\n"
          ],
          "name": "stdout"
        }
      ]
    },
    {
      "cell_type": "markdown",
      "metadata": {
        "id": "aNG_urIPCH5j"
      },
      "source": [
        "# ANN -- testing different Activation functions and Optimizers"
      ]
    },
    {
      "cell_type": "code",
      "metadata": {
        "id": "W-HYrJANCH5k",
        "outputId": "a81de88e-9c14-4019-ee72-234b1796fa62"
      },
      "source": [
        "from keras.models import Sequential\n",
        "from keras.layers import Dense\n",
        "\n",
        "model_1 = Sequential([\n",
        "    Dense(32, input_shape=(28,)),\n",
        "    Dense(32, activation='relu'),\n",
        "    Dense(1, activation='sigmoid'),\n",
        "])"
      ],
      "execution_count": null,
      "outputs": [
        {
          "output_type": "stream",
          "text": [
            "Using TensorFlow backend.\n"
          ],
          "name": "stderr"
        }
      ]
    },
    {
      "cell_type": "code",
      "metadata": {
        "id": "Ms6As5TRCH5l"
      },
      "source": [
        "model_1.compile(optimizer='adam',\n",
        "              loss='binary_crossentropy',\n",
        "              metrics=['accuracy'])\n",
        "\n",
        "# sgd is stochastic gradient descent --> refers to mini-batch gradient descent\n",
        "# adam is a replacemet for sgd and combines RMSprop and sgd, and is one of the best optimizers. \n",
        "#      It is much more faster and efficient. --> Adaptive moment estimation\n",
        "# binary_crossentropy --> loss function for output which takes the values 1 or 0\n",
        "# We have chosen accuracy as the metric to test our model performance\n",
        "# Now the model is ready to be trained"
      ],
      "execution_count": null,
      "outputs": []
    },
    {
      "cell_type": "code",
      "metadata": {
        "id": "GCSbk0DeCH5n",
        "outputId": "ba9602f1-78d3-4732-eb3f-bc63664daa6c"
      },
      "source": [
        "# Training the dataset\n",
        "model_1.fit(X_train, Y_train,\n",
        "          batch_size=32, epochs=20, verbose = 2, \n",
        "          validation_data=(X_test, Y_test))\n",
        "\n",
        "# epochs - it is how long we wnt to train it for"
      ],
      "execution_count": null,
      "outputs": [
        {
          "output_type": "stream",
          "text": [
            "Train on 2074 samples, validate on 889 samples\n",
            "Epoch 1/20\n",
            " - 0s - loss: 0.5955 - accuracy: 0.6818 - val_loss: 0.4000 - val_accuracy: 0.8470\n",
            "Epoch 2/20\n",
            " - 0s - loss: 0.3338 - accuracy: 0.8857 - val_loss: 0.2767 - val_accuracy: 0.8988\n",
            "Epoch 3/20\n",
            " - 0s - loss: 0.2447 - accuracy: 0.9103 - val_loss: 0.2259 - val_accuracy: 0.9145\n",
            "Epoch 4/20\n",
            " - 0s - loss: 0.2045 - accuracy: 0.9229 - val_loss: 0.2049 - val_accuracy: 0.9168\n",
            "Epoch 5/20\n",
            " - 0s - loss: 0.1828 - accuracy: 0.9315 - val_loss: 0.1896 - val_accuracy: 0.9235\n",
            "Epoch 6/20\n",
            " - 0s - loss: 0.1671 - accuracy: 0.9344 - val_loss: 0.1786 - val_accuracy: 0.9258\n",
            "Epoch 7/20\n",
            " - 0s - loss: 0.1537 - accuracy: 0.9436 - val_loss: 0.1716 - val_accuracy: 0.9325\n",
            "Epoch 8/20\n",
            " - 0s - loss: 0.1441 - accuracy: 0.9499 - val_loss: 0.1617 - val_accuracy: 0.9381\n",
            "Epoch 9/20\n",
            " - 0s - loss: 0.1358 - accuracy: 0.9552 - val_loss: 0.1544 - val_accuracy: 0.9438\n",
            "Epoch 10/20\n",
            " - 0s - loss: 0.1261 - accuracy: 0.9590 - val_loss: 0.1478 - val_accuracy: 0.9494\n",
            "Epoch 11/20\n",
            " - 0s - loss: 0.1165 - accuracy: 0.9629 - val_loss: 0.1492 - val_accuracy: 0.9449\n",
            "Epoch 12/20\n",
            " - 0s - loss: 0.1089 - accuracy: 0.9653 - val_loss: 0.1440 - val_accuracy: 0.9483\n",
            "Epoch 13/20\n",
            " - 0s - loss: 0.1043 - accuracy: 0.9682 - val_loss: 0.1389 - val_accuracy: 0.9516\n",
            "Epoch 14/20\n",
            " - 0s - loss: 0.0969 - accuracy: 0.9691 - val_loss: 0.1275 - val_accuracy: 0.9584\n",
            "Epoch 15/20\n",
            " - 0s - loss: 0.0915 - accuracy: 0.9701 - val_loss: 0.1242 - val_accuracy: 0.9584\n",
            "Epoch 16/20\n",
            " - 0s - loss: 0.0846 - accuracy: 0.9769 - val_loss: 0.1206 - val_accuracy: 0.9573\n",
            "Epoch 17/20\n",
            " - 0s - loss: 0.0805 - accuracy: 0.9759 - val_loss: 0.1234 - val_accuracy: 0.9584\n",
            "Epoch 18/20\n",
            " - 0s - loss: 0.0760 - accuracy: 0.9773 - val_loss: 0.1190 - val_accuracy: 0.9629\n",
            "Epoch 19/20\n",
            " - 0s - loss: 0.0722 - accuracy: 0.9783 - val_loss: 0.1168 - val_accuracy: 0.9629\n",
            "Epoch 20/20\n",
            " - 0s - loss: 0.0680 - accuracy: 0.9817 - val_loss: 0.1160 - val_accuracy: 0.9640\n"
          ],
          "name": "stdout"
        },
        {
          "output_type": "execute_result",
          "data": {
            "text/plain": [
              "<keras.callbacks.callbacks.History at 0x25f344de1d0>"
            ]
          },
          "metadata": {
            "tags": []
          },
          "execution_count": 28
        }
      ]
    },
    {
      "cell_type": "code",
      "metadata": {
        "id": "yfdMWyVaCH5o",
        "outputId": "9f37671a-87e9-4098-f286-28ef1a3301bb"
      },
      "source": [
        "model_1.evaluate(X_test, Y_test)[1]"
      ],
      "execution_count": null,
      "outputs": [
        {
          "output_type": "stream",
          "text": [
            "889/889 [==============================] - 0s 18us/step\n"
          ],
          "name": "stdout"
        },
        {
          "output_type": "execute_result",
          "data": {
            "text/plain": [
              "0.9640045166015625"
            ]
          },
          "metadata": {
            "tags": []
          },
          "execution_count": 29
        }
      ]
    },
    {
      "cell_type": "code",
      "metadata": {
        "id": "9O6rCq71CH5t",
        "outputId": "eb28040b-0a87-4025-f626-028fc94ef8a9"
      },
      "source": [
        "model_1.summary()"
      ],
      "execution_count": null,
      "outputs": [
        {
          "output_type": "stream",
          "text": [
            "Model: \"sequential_1\"\n",
            "_________________________________________________________________\n",
            "Layer (type)                 Output Shape              Param #   \n",
            "=================================================================\n",
            "dense_1 (Dense)              (None, 32)                928       \n",
            "_________________________________________________________________\n",
            "dense_2 (Dense)              (None, 32)                1056      \n",
            "_________________________________________________________________\n",
            "dense_3 (Dense)              (None, 1)                 33        \n",
            "=================================================================\n",
            "Total params: 2,017\n",
            "Trainable params: 2,017\n",
            "Non-trainable params: 0\n",
            "_________________________________________________________________\n"
          ],
          "name": "stdout"
        }
      ]
    },
    {
      "cell_type": "markdown",
      "metadata": {
        "id": "HJeFSzrjCH5u"
      },
      "source": [
        "# ANN -- One hidden layer"
      ]
    },
    {
      "cell_type": "code",
      "metadata": {
        "id": "Ki2AHBweCH5u",
        "outputId": "0b9df9a3-c3fb-47d5-b988-d6c438908294"
      },
      "source": [
        "from keras.models import Sequential\n",
        "from keras.layers import Dense\n",
        "model_2 = Sequential()\n",
        "\n",
        "# Add an input layer --> 12 hidden units --> output is of shape (*,12)\n",
        "model_2.add(Dense(12, input_shape=(28,)))\n",
        "\n",
        "# Add one hidden layer --> output is of shape (*,8)\n",
        "model_2.add(Dense(8, activation='relu'))\n",
        "\n",
        "# Add an output layer having a dense layer of size 1\n",
        "model_2.add(Dense(1, activation='sigmoid'))\n",
        "\n",
        "# the output layer uses sigmoid activation function so that the output is a probability, that is between 0 and 1,\n",
        "#    how likely the sample is to have a target 1, how likely are the chances for the infants to die.\n",
        "\n",
        "# allowing more hidden layers, can help the model to learn more complex representations but it will be expensive and \n",
        "#    and prone to overfitting."
      ],
      "execution_count": null,
      "outputs": [
        {
          "output_type": "stream",
          "text": [
            "Using TensorFlow backend.\n"
          ],
          "name": "stderr"
        }
      ]
    },
    {
      "cell_type": "code",
      "metadata": {
        "id": "ar-SutnrCH5y"
      },
      "source": [
        "model_2.compile(loss='binary_crossentropy',\n",
        "              optimizer='adam',\n",
        "              metrics=['accuracy'])"
      ],
      "execution_count": null,
      "outputs": []
    },
    {
      "cell_type": "code",
      "metadata": {
        "id": "-rTcDSlVCH5z",
        "outputId": "bda605d9-1921-4a23-aa57-1b6fe785a17b"
      },
      "source": [
        "model_2.fit(X_train, Y_train, epochs=20, batch_size=1, verbose=1)"
      ],
      "execution_count": null,
      "outputs": [
        {
          "output_type": "stream",
          "text": [
            "Epoch 1/20\n",
            "2074/2074 [==============================] - 2s 1ms/step - loss: 0.3522 - accuracy: 0.8481\n",
            "Epoch 2/20\n",
            "2074/2074 [==============================] - 2s 960us/step - loss: 0.2198 - accuracy: 0.9108\n",
            "Epoch 3/20\n",
            "2074/2074 [==============================] - 2s 947us/step - loss: 0.2001 - accuracy: 0.9180\n",
            "Epoch 4/20\n",
            "2074/2074 [==============================] - 2s 970us/step - loss: 0.1822 - accuracy: 0.9272\n",
            "Epoch 5/20\n",
            "2074/2074 [==============================] - 2s 967us/step - loss: 0.1651 - accuracy: 0.9320\n",
            "Epoch 6/20\n",
            "2074/2074 [==============================] - 2s 1ms/step - loss: 0.1555 - accuracy: 0.9397\n",
            "Epoch 7/20\n",
            "2074/2074 [==============================] - 2s 993us/step - loss: 0.1394 - accuracy: 0.9489\n",
            "Epoch 8/20\n",
            "2074/2074 [==============================] - 2s 1ms/step - loss: 0.1254 - accuracy: 0.9552\n",
            "Epoch 9/20\n",
            "2074/2074 [==============================] - 2s 962us/step - loss: 0.1153 - accuracy: 0.9585\n",
            "Epoch 10/20\n",
            "2074/2074 [==============================] - 2s 1ms/step - loss: 0.1074 - accuracy: 0.9605\n",
            "Epoch 11/20\n",
            "2074/2074 [==============================] - 2s 996us/step - loss: 0.1026 - accuracy: 0.9600\n",
            "Epoch 12/20\n",
            "2074/2074 [==============================] - 2s 931us/step - loss: 0.0966 - accuracy: 0.9638\n",
            "Epoch 13/20\n",
            "2074/2074 [==============================] - 2s 1ms/step - loss: 0.0915 - accuracy: 0.9662\n",
            "Epoch 14/20\n",
            "2074/2074 [==============================] - 2s 1000us/step - loss: 0.0842 - accuracy: 0.9711\n",
            "Epoch 15/20\n",
            "2074/2074 [==============================] - 2s 942us/step - loss: 0.0807 - accuracy: 0.9740\n",
            "Epoch 16/20\n",
            "2074/2074 [==============================] - 2s 928us/step - loss: 0.0801 - accuracy: 0.9711\n",
            "Epoch 17/20\n",
            "2074/2074 [==============================] - 2s 937us/step - loss: 0.0726 - accuracy: 0.9740\n",
            "Epoch 18/20\n",
            "2074/2074 [==============================] - 2s 947us/step - loss: 0.0734 - accuracy: 0.9735\n",
            "Epoch 19/20\n",
            "2074/2074 [==============================] - 2s 948us/step - loss: 0.0668 - accuracy: 0.9783\n",
            "Epoch 20/20\n",
            "2074/2074 [==============================] - 2s 940us/step - loss: 0.0656 - accuracy: 0.9788\n"
          ],
          "name": "stdout"
        },
        {
          "output_type": "execute_result",
          "data": {
            "text/plain": [
              "<keras.callbacks.callbacks.History at 0x28ecab67710>"
            ]
          },
          "metadata": {
            "tags": []
          },
          "execution_count": 28
        }
      ]
    },
    {
      "cell_type": "code",
      "metadata": {
        "id": "PJKVA8QGCH51",
        "outputId": "237b6c47-17d5-4f68-c6ac-39f180d97107"
      },
      "source": [
        "#testing accuracy\n",
        "model_2.evaluate(X_test, Y_test)[1]"
      ],
      "execution_count": null,
      "outputs": [
        {
          "output_type": "stream",
          "text": [
            "889/889 [==============================] - 0s 36us/step\n"
          ],
          "name": "stdout"
        },
        {
          "output_type": "execute_result",
          "data": {
            "text/plain": [
              "0.960629940032959"
            ]
          },
          "metadata": {
            "tags": []
          },
          "execution_count": 29
        }
      ]
    },
    {
      "cell_type": "code",
      "metadata": {
        "id": "bzvVZNFnCH51",
        "outputId": "8907eb68-1835-417e-e5da-405ac7674788"
      },
      "source": [
        "#training accuracy\n",
        "model_2.evaluate(X_train, Y_train)[1]"
      ],
      "execution_count": null,
      "outputs": [
        {
          "output_type": "stream",
          "text": [
            "2074/2074 [==============================] - 0s 19us/step\n"
          ],
          "name": "stdout"
        },
        {
          "output_type": "execute_result",
          "data": {
            "text/plain": [
              "0.9816778898239136"
            ]
          },
          "metadata": {
            "tags": []
          },
          "execution_count": 30
        }
      ]
    },
    {
      "cell_type": "code",
      "metadata": {
        "id": "wA2LvsrUCH52",
        "outputId": "aa1c567f-82a0-431b-f95b-368c13400ef2"
      },
      "source": [
        "model_2.get_weights()"
      ],
      "execution_count": null,
      "outputs": [
        {
          "output_type": "execute_result",
          "data": {
            "text/plain": [
              "[array([[-0.16009414,  0.2554578 , -0.28809395,  0.11165188,  0.37612385,\n",
              "         -0.17999311,  0.12989922, -0.30159226, -0.19004019,  0.42255944,\n",
              "          0.4350344 ,  0.02778071],\n",
              "        [-0.01827009,  0.45571208,  0.21508   ,  0.34943062, -0.39821008,\n",
              "          0.16220564, -0.07311459, -0.24898091, -0.690347  , -0.05991927,\n",
              "         -0.22288759, -0.18498814],\n",
              "        [-0.19432522, -0.09342603,  0.20251942, -0.08504202,  0.11280835,\n",
              "          0.05974859,  0.00179563, -0.18730912, -0.37592378, -0.42532757,\n",
              "         -0.35392538,  0.3718842 ],\n",
              "        [-0.10550441, -0.27211735, -0.2131643 , -0.22373892, -0.12780194,\n",
              "          0.2709831 ,  0.25517327,  0.27430707,  0.11899079, -0.20665535,\n",
              "         -0.38518882,  0.03335609],\n",
              "        [-0.08566194,  0.24101472, -0.22197971,  0.10763712,  0.8391277 ,\n",
              "         -0.07796744, -0.4999273 , -0.37512147,  0.3763242 , -0.16773956,\n",
              "         -0.3822334 ,  0.06680498],\n",
              "        [-0.12950589,  0.04823938, -0.37187466, -0.6446287 ,  0.54226995,\n",
              "          0.27643853,  0.24414758,  0.1482051 ,  0.59476256, -0.44382703,\n",
              "         -0.13989572, -0.23893169],\n",
              "        [ 0.2154507 ,  0.37697512,  0.23572509, -0.14664608, -0.01054914,\n",
              "          0.33760226, -0.35853207,  0.15019898, -0.24462368,  0.37548336,\n",
              "         -0.5095704 , -0.14628087],\n",
              "        [ 0.14985651,  0.28102827, -0.17573847, -0.22579356,  0.31363153,\n",
              "         -0.31879145,  0.3282519 , -0.12291093, -0.08277202, -0.29861763,\n",
              "          0.34256127,  0.81772614],\n",
              "        [ 0.27762258,  0.09193546, -0.21830562,  0.17167029,  0.0258471 ,\n",
              "          0.2979797 ,  0.00313252, -0.32855842, -0.09401851, -0.26856995,\n",
              "          0.14673106, -0.51268554],\n",
              "        [ 0.6048879 , -0.28128153,  0.03216841, -0.24661358,  0.19723825,\n",
              "          0.06624433, -0.35129908, -0.43522084, -0.00375342,  0.10820156,\n",
              "         -0.2608076 , -0.5147951 ],\n",
              "        [-0.11455523,  0.16944389, -0.3415239 , -0.03143743, -0.01017887,\n",
              "         -0.3689301 ,  0.14107466, -0.23743305, -0.15420143,  0.21236515,\n",
              "          0.06134795, -0.34954816],\n",
              "        [-0.06306803, -0.09303867, -0.01902345,  1.0427188 , -0.4867641 ,\n",
              "         -0.48476335, -0.16673346, -0.12877859, -0.16360782,  0.42366365,\n",
              "         -0.21347655, -0.04827046],\n",
              "        [ 0.09794237, -0.39844173, -0.13522525,  0.02786492, -0.3088089 ,\n",
              "         -0.21836098,  0.3236451 ,  0.21169445,  0.07137123,  0.08847705,\n",
              "         -0.11141895,  0.22868325],\n",
              "        [-0.283931  ,  0.0970493 , -0.18680584, -0.11025728,  0.39067456,\n",
              "         -0.2832626 ,  0.43293864, -0.13571197, -0.21067324, -0.5433605 ,\n",
              "         -0.33106273,  0.65630955],\n",
              "        [ 0.29954416, -0.43846932, -0.8422831 ,  0.8363315 ,  1.3503389 ,\n",
              "         -0.6485835 , -0.4144375 , -0.8283971 ,  0.29440463,  0.8114285 ,\n",
              "          0.326684  ,  0.3057138 ],\n",
              "        [-0.15354964,  0.39735612, -0.3774068 , -0.24795583,  0.04600345,\n",
              "          0.16970763, -0.06238326, -0.6134183 , -0.20852458, -0.5043552 ,\n",
              "         -0.33024943,  0.1941578 ],\n",
              "        [ 1.2247214 , -1.5455538 ,  0.396918  ,  0.05018482, -0.22040723,\n",
              "          0.43010014, -0.9705298 , -0.29491222,  0.88097584, -0.60574615,\n",
              "         -0.22118653,  0.4358122 ],\n",
              "        [-0.33755472, -0.26100296,  0.2777246 ,  0.04602386,  0.27815777,\n",
              "         -0.45548883,  0.46131465,  0.25065428,  0.23164529,  0.55613756,\n",
              "         -0.37399995,  0.43179703],\n",
              "        [-0.30006287,  0.35379106,  0.02691916,  0.08838252,  0.07953158,\n",
              "          0.53375345, -0.4139976 , -0.18831086,  0.3725378 , -0.19276069,\n",
              "         -0.24115433, -0.9576755 ],\n",
              "        [-0.11622133,  0.01266494,  0.46901068, -0.22415763, -0.08941659,\n",
              "         -0.41673476, -0.24656548,  0.1473701 , -0.11572526, -0.1573411 ,\n",
              "         -0.4142973 ,  0.5651586 ],\n",
              "        [ 0.3150212 ,  0.07540145,  0.56344295,  0.01917655,  0.35530373,\n",
              "          0.08195847,  0.21872817, -0.4073203 , -0.26560855, -0.26595575,\n",
              "         -0.07279464,  0.4324413 ],\n",
              "        [ 1.2986033 , -0.5092362 ,  0.7626423 ,  0.25770628,  0.07855248,\n",
              "          0.31310216, -0.70518214, -0.9451933 ,  0.400792  , -0.414885  ,\n",
              "         -1.018615  , -0.3303676 ],\n",
              "        [-0.13962728,  0.04361108, -0.14236197,  0.53290474,  0.07713715,\n",
              "          0.22980377,  0.10375805,  0.42336348,  0.16086486, -0.02460632,\n",
              "          0.05026486, -0.13390505],\n",
              "        [-0.09541939,  0.12965772, -0.13790809, -0.2500252 , -0.72803265,\n",
              "         -0.1881844 ,  0.30848286, -0.04550419, -0.7422511 , -0.20848744,\n",
              "          0.44168326, -0.62200826],\n",
              "        [ 0.05945486,  0.41594324, -0.33788973,  0.2853061 , -0.02421484,\n",
              "          0.36488655,  0.04213906,  0.09263927,  0.04965627, -0.21957394,\n",
              "         -0.20930992, -0.5048634 ],\n",
              "        [-0.02431698, -0.4461938 ,  0.20873658, -0.16029973, -0.547391  ,\n",
              "          0.00861499, -0.13039303,  0.34046945,  0.39667055, -0.6496409 ,\n",
              "         -0.0416222 , -0.34237278],\n",
              "        [ 0.37780526, -0.48216757, -0.05506471,  0.44890657,  0.06217222,\n",
              "         -0.10209431, -0.2307562 , -0.42113823, -0.19842066, -0.5348951 ,\n",
              "         -0.37159654,  0.4100477 ],\n",
              "        [-0.24404106, -0.04274875,  0.67895466, -0.82783717, -0.17401735,\n",
              "          0.6418997 , -0.6093861 , -0.26458815, -0.01185123, -0.04757467,\n",
              "         -0.6793914 ,  0.2924327 ]], dtype=float32),\n",
              " array([-0.28006634,  0.35931715, -0.20324673,  0.30960882, -0.11365764,\n",
              "        -0.4551704 ,  0.48079836,  0.1376786 , -0.29085076,  0.22113614,\n",
              "         0.26010707,  0.19496523], dtype=float32),\n",
              " array([[-0.92369753,  0.5323519 , -0.6659329 ,  0.85949653,  0.25127822,\n",
              "          0.7015616 ,  0.5272831 ,  0.15972431],\n",
              "        [ 0.6355812 , -1.0350448 ,  0.62299305, -0.04623011,  0.17262891,\n",
              "         -0.22198287, -0.6747506 ,  0.3001082 ],\n",
              "        [-0.6712675 ,  0.83084327,  0.8450254 ,  0.36602753,  0.10664347,\n",
              "         -0.55551994, -0.29662538,  0.47257707],\n",
              "        [ 0.07780928,  0.72212577, -0.85504144,  0.24243787,  0.17669958,\n",
              "          0.6743671 ,  0.09158354,  0.407065  ],\n",
              "        [-0.2753716 , -0.97934586, -0.7287159 , -0.54986537,  0.18388565,\n",
              "         -0.24883637,  0.8683549 ,  0.59908575],\n",
              "        [-0.10732299, -0.53934723,  0.82578886,  0.5579901 ,  0.22314325,\n",
              "         -0.47280967,  0.40139142, -0.51259923],\n",
              "        [ 0.29496747, -0.08414624,  0.46130145, -0.6107876 ,  0.8206291 ,\n",
              "          0.79019696, -0.6902371 ,  0.51349866],\n",
              "        [ 0.5843325 ,  0.5418309 ,  0.6824719 , -0.38865125,  0.59424084,\n",
              "          0.25830138,  0.07310203, -0.20026039],\n",
              "        [ 0.16108026,  0.0382499 , -0.05021353, -0.09013988,  0.30878535,\n",
              "          0.09269153,  0.96119964, -0.36637366],\n",
              "        [ 0.8962848 ,  0.40957418, -0.5585678 ,  0.31186575,  0.27754077,\n",
              "         -0.89335895,  0.13250339,  0.4882492 ],\n",
              "        [ 0.5827453 ,  0.08453482, -0.523868  , -0.55584663,  0.62228495,\n",
              "          0.33695668, -0.39442122, -1.0888803 ],\n",
              "        [-0.4994616 ,  0.47059953, -0.27802902, -0.63725066, -0.3749181 ,\n",
              "         -0.2331314 , -0.2287407 ,  0.5735456 ]], dtype=float32),\n",
              " array([ 0.36686328,  0.01727356, -0.13360974, -0.23991054,  0.08609992,\n",
              "         0.5736168 , -0.3418252 ,  0.47076714], dtype=float32),\n",
              " array([[ 1.070969  ],\n",
              "        [-0.9387983 ],\n",
              "        [-1.3505392 ],\n",
              "        [-1.109067  ],\n",
              "        [ 0.3862423 ],\n",
              "        [ 0.5833917 ],\n",
              "        [-1.2578616 ],\n",
              "        [ 0.76432234]], dtype=float32),\n",
              " array([0.12995419], dtype=float32)]"
            ]
          },
          "metadata": {
            "tags": []
          },
          "execution_count": 31
        }
      ]
    },
    {
      "cell_type": "code",
      "metadata": {
        "id": "4zNz77BsCH52",
        "outputId": "782bbc67-5695-4983-b618-2875ca5f7cb2"
      },
      "source": [
        "model_2.get_config()"
      ],
      "execution_count": null,
      "outputs": [
        {
          "output_type": "execute_result",
          "data": {
            "text/plain": [
              "{'layers': [{'class_name': 'Dense',\n",
              "   'config': {'activation': 'linear',\n",
              "    'activity_regularizer': None,\n",
              "    'batch_input_shape': (None, 28),\n",
              "    'bias_constraint': None,\n",
              "    'bias_initializer': {'class_name': 'Zeros', 'config': {}},\n",
              "    'bias_regularizer': None,\n",
              "    'dtype': 'float32',\n",
              "    'kernel_constraint': None,\n",
              "    'kernel_initializer': {'class_name': 'VarianceScaling',\n",
              "     'config': {'distribution': 'uniform',\n",
              "      'mode': 'fan_avg',\n",
              "      'scale': 1.0,\n",
              "      'seed': None}},\n",
              "    'kernel_regularizer': None,\n",
              "    'name': 'dense_1',\n",
              "    'trainable': True,\n",
              "    'units': 12,\n",
              "    'use_bias': True}},\n",
              "  {'class_name': 'Dense',\n",
              "   'config': {'activation': 'relu',\n",
              "    'activity_regularizer': None,\n",
              "    'bias_constraint': None,\n",
              "    'bias_initializer': {'class_name': 'Zeros', 'config': {}},\n",
              "    'bias_regularizer': None,\n",
              "    'dtype': 'float32',\n",
              "    'kernel_constraint': None,\n",
              "    'kernel_initializer': {'class_name': 'VarianceScaling',\n",
              "     'config': {'distribution': 'uniform',\n",
              "      'mode': 'fan_avg',\n",
              "      'scale': 1.0,\n",
              "      'seed': None}},\n",
              "    'kernel_regularizer': None,\n",
              "    'name': 'dense_2',\n",
              "    'trainable': True,\n",
              "    'units': 8,\n",
              "    'use_bias': True}},\n",
              "  {'class_name': 'Dense',\n",
              "   'config': {'activation': 'sigmoid',\n",
              "    'activity_regularizer': None,\n",
              "    'bias_constraint': None,\n",
              "    'bias_initializer': {'class_name': 'Zeros', 'config': {}},\n",
              "    'bias_regularizer': None,\n",
              "    'dtype': 'float32',\n",
              "    'kernel_constraint': None,\n",
              "    'kernel_initializer': {'class_name': 'VarianceScaling',\n",
              "     'config': {'distribution': 'uniform',\n",
              "      'mode': 'fan_avg',\n",
              "      'scale': 1.0,\n",
              "      'seed': None}},\n",
              "    'kernel_regularizer': None,\n",
              "    'name': 'dense_3',\n",
              "    'trainable': True,\n",
              "    'units': 1,\n",
              "    'use_bias': True}}],\n",
              " 'name': 'sequential_1'}"
            ]
          },
          "metadata": {
            "tags": []
          },
          "execution_count": 32
        }
      ]
    },
    {
      "cell_type": "code",
      "metadata": {
        "id": "QPLu54ADCH52",
        "outputId": "f38a8896-3162-43bb-a271-e69a60840d0a"
      },
      "source": [
        "model_2.summary()"
      ],
      "execution_count": null,
      "outputs": [
        {
          "output_type": "stream",
          "text": [
            "Model: \"sequential_1\"\n",
            "_________________________________________________________________\n",
            "Layer (type)                 Output Shape              Param #   \n",
            "=================================================================\n",
            "dense_1 (Dense)              (None, 12)                348       \n",
            "_________________________________________________________________\n",
            "dense_2 (Dense)              (None, 8)                 104       \n",
            "_________________________________________________________________\n",
            "dense_3 (Dense)              (None, 1)                 9         \n",
            "=================================================================\n",
            "Total params: 461\n",
            "Trainable params: 461\n",
            "Non-trainable params: 0\n",
            "_________________________________________________________________\n"
          ],
          "name": "stdout"
        }
      ]
    },
    {
      "cell_type": "code",
      "metadata": {
        "id": "li_MCiE6CH53"
      },
      "source": [
        "#Testing class\n",
        "y_pred = model_2.predict_classes(X_test)"
      ],
      "execution_count": null,
      "outputs": []
    },
    {
      "cell_type": "code",
      "metadata": {
        "id": "jRNB8n6PCH53"
      },
      "source": [
        "#Training class\n",
        "Y_pred = model_2.predict_classes(X_train)"
      ],
      "execution_count": null,
      "outputs": []
    },
    {
      "cell_type": "code",
      "metadata": {
        "id": "TEFzx9p2CH54",
        "outputId": "57bbb79f-25d6-47bc-d7a4-ffe7bf22ce6a"
      },
      "source": [
        "score = model_2.evaluate(X_test, Y_test,verbose=1)\n",
        "print(score)"
      ],
      "execution_count": null,
      "outputs": [
        {
          "output_type": "stream",
          "text": [
            "889/889 [==============================] - 0s 18us/step\n",
            "[0.12239763146545005, 0.960629940032959]\n"
          ],
          "name": "stdout"
        }
      ]
    },
    {
      "cell_type": "code",
      "metadata": {
        "id": "c0B3u8OJCH54",
        "outputId": "1c750f4d-1a58-4533-9035-6198c22ad287"
      },
      "source": [
        "score = model_2.evaluate(X_train, Y_train,verbose=1)\n",
        "print(score)"
      ],
      "execution_count": null,
      "outputs": [
        {
          "output_type": "stream",
          "text": [
            "2074/2074 [==============================] - 0s 19us/step\n",
            "[0.056623343680064726, 0.9816778898239136]\n"
          ],
          "name": "stdout"
        }
      ]
    },
    {
      "cell_type": "code",
      "metadata": {
        "id": "UmP0PrhtCH54",
        "outputId": "ce99dfbe-4f9d-4024-c155-30a8abdc9c23"
      },
      "source": [
        "y_pred[:10]"
      ],
      "execution_count": null,
      "outputs": [
        {
          "output_type": "execute_result",
          "data": {
            "text/plain": [
              "array([[0],\n",
              "       [1],\n",
              "       [1],\n",
              "       [1],\n",
              "       [1],\n",
              "       [0],\n",
              "       [0],\n",
              "       [0],\n",
              "       [1],\n",
              "       [0]])"
            ]
          },
          "metadata": {
            "tags": []
          },
          "execution_count": 38
        }
      ]
    },
    {
      "cell_type": "code",
      "metadata": {
        "id": "l0T9sU7QCH54",
        "outputId": "eeabf019-532c-40d2-c410-6656d5ac7d19"
      },
      "source": [
        "from sklearn.metrics import confusion_matrix, precision_score, recall_score, f1_score, cohen_kappa_score\n",
        "from sklearn.metrics import log_loss\n",
        "# Confusion matrix -- testing class\n",
        "confusion_matrix(Y_test, y_pred)"
      ],
      "execution_count": null,
      "outputs": [
        {
          "output_type": "execute_result",
          "data": {
            "text/plain": [
              "array([[378,  25],\n",
              "       [ 10, 476]], dtype=int64)"
            ]
          },
          "metadata": {
            "tags": []
          },
          "execution_count": 39
        }
      ]
    },
    {
      "cell_type": "code",
      "metadata": {
        "id": "VxD74lvRCH55",
        "outputId": "aa3a2916-4884-404c-813e-92e2fc6ae2f2"
      },
      "source": [
        "# Confusion matrix -- training class\n",
        "confusion_matrix(Y_train, Y_pred)"
      ],
      "execution_count": null,
      "outputs": [
        {
          "output_type": "execute_result",
          "data": {
            "text/plain": [
              "array([[ 914,   29],\n",
              "       [   9, 1122]], dtype=int64)"
            ]
          },
          "metadata": {
            "tags": []
          },
          "execution_count": 40
        }
      ]
    },
    {
      "cell_type": "code",
      "metadata": {
        "id": "3L_xS0iaCH55",
        "outputId": "98e47cb4-4f88-4fd9-a754-faf97b6dacf7"
      },
      "source": [
        "print(\"Testing Class Evaluation Metrics\\n\")\n",
        "print(\"Testing Precision Score = \",precision_score(Y_test, y_pred))\n",
        "print(\"Testing Recall Score = \",recall_score(Y_test, y_pred))\n",
        "print(\"Testing F1 Score = \",f1_score(Y_test, y_pred))\n",
        "print(\"Testing Cohen Kappa Score = \",cohen_kappa_score(Y_test, y_pred))\n",
        "print(\"Testing Loss = \",log_loss(Y_test, y_pred))"
      ],
      "execution_count": null,
      "outputs": [
        {
          "output_type": "stream",
          "text": [
            "Testing Class Evaluation Metrics\n",
            "\n",
            "Testing Precision Score =  0.9500998003992016\n",
            "Testing Recall Score =  0.9794238683127572\n",
            "Testing F1 Score =  0.9645390070921986\n",
            "Testing Cohen Kappa Score =  0.920314184664162\n",
            "Testing Loss =  1.359816832123318\n"
          ],
          "name": "stdout"
        }
      ]
    },
    {
      "cell_type": "code",
      "metadata": {
        "id": "WK_D1GDZCH56",
        "outputId": "e6cdbb7d-1d3c-453e-86f8-4897e548f63d"
      },
      "source": [
        "print(\"Training Class Evaluation Metrics\\n\")\n",
        "print(\"Training Precision Score = \",precision_score(Y_train, Y_pred))\n",
        "print(\"Training Recall Score = \",recall_score(Y_train, Y_pred))\n",
        "print(\"Training F1 Score = \",f1_score(Y_train, Y_pred))\n",
        "print(\"Training Cohen Kappa Score = \",cohen_kappa_score(Y_train, Y_pred))\n",
        "print(\"Training Loss = \",log_loss(Y_train, Y_pred))"
      ],
      "execution_count": null,
      "outputs": [
        {
          "output_type": "stream",
          "text": [
            "Training Class Evaluation Metrics\n",
            "\n",
            "Training Precision Score =  0.9748045178105995\n",
            "Training Recall Score =  0.9920424403183024\n",
            "Training F1 Score =  0.9833479404031552\n",
            "Training Cohen Kappa Score =  0.9629870013985777\n",
            "Training Loss =  0.6328335059460383\n"
          ],
          "name": "stdout"
        }
      ]
    },
    {
      "cell_type": "markdown",
      "metadata": {
        "id": "5mJqNWtZCH57"
      },
      "source": [
        "# Dropout Regularization to prevent overfitting -- DNN"
      ]
    },
    {
      "cell_type": "code",
      "metadata": {
        "id": "lgNdzmgHCH58",
        "outputId": "ff5f763a-c0de-445e-9e3e-0190c090d1a8"
      },
      "source": [
        "from keras.models import Sequential\n",
        "from keras.layers import Dense\n",
        "from keras.layers import Dropout\n",
        "from keras import regularizers"
      ],
      "execution_count": null,
      "outputs": [
        {
          "output_type": "stream",
          "text": [
            "Using TensorFlow backend.\n"
          ],
          "name": "stderr"
        }
      ]
    },
    {
      "cell_type": "code",
      "metadata": {
        "id": "h731UrnNCH58"
      },
      "source": [
        "model_3 = Sequential([\n",
        "    Dense(1000, kernel_regularizer=regularizers.l2(0.01), input_shape=(28,)),\n",
        "    Dropout(0.3),\n",
        "    Dense(1000, activation='relu', kernel_regularizer=regularizers.l2(0.01)),\n",
        "    Dropout(0.3),\n",
        "    Dense(1000, activation='relu', kernel_regularizer=regularizers.l2(0.01)),\n",
        "    Dropout(0.3),\n",
        "    Dense(1000, activation='relu', kernel_regularizer=regularizers.l2(0.01)),\n",
        "    Dropout(0.3),\n",
        "    Dense(1000, activation='relu', kernel_regularizer=regularizers.l2(0.01)),\n",
        "    Dropout(0.3),\n",
        "    Dense(1000, activation='relu', kernel_regularizer=regularizers.l2(0.01)),\n",
        "    Dropout(0.3),\n",
        "    Dense(1, activation='sigmoid', kernel_regularizer=regularizers.l2(0.01)),\n",
        "])"
      ],
      "execution_count": null,
      "outputs": []
    },
    {
      "cell_type": "code",
      "metadata": {
        "id": "vpVMqINSCH58"
      },
      "source": [
        "model_3.compile(optimizer='adam',\n",
        "              loss='binary_crossentropy',\n",
        "              metrics=['accuracy'])"
      ],
      "execution_count": null,
      "outputs": []
    },
    {
      "cell_type": "code",
      "metadata": {
        "id": "PncxZYyyCH58",
        "outputId": "01bea0af-51c2-4971-9590-03b6b4f5efbd"
      },
      "source": [
        "model_3.fit(X_train, Y_train,\n",
        "          batch_size=32, epochs=20)"
      ],
      "execution_count": null,
      "outputs": [
        {
          "output_type": "stream",
          "text": [
            "Epoch 1/20\n",
            "2074/2074 [==============================] - 11s 5ms/step - loss: 15.1198 - accuracy: 0.8684\n",
            "Epoch 2/20\n",
            "2074/2074 [==============================] - 10s 5ms/step - loss: 0.8421 - accuracy: 0.9219\n",
            "Epoch 3/20\n",
            "2074/2074 [==============================] - 10s 5ms/step - loss: 0.5315 - accuracy: 0.9190\n",
            "Epoch 4/20\n",
            "2074/2074 [==============================] - 10s 5ms/step - loss: 0.4829 - accuracy: 0.9195\n",
            "Epoch 5/20\n",
            "2074/2074 [==============================] - 10s 5ms/step - loss: 0.4451 - accuracy: 0.9253\n",
            "Epoch 6/20\n",
            "2074/2074 [==============================] - 10s 5ms/step - loss: 0.4110 - accuracy: 0.9373\n",
            "Epoch 7/20\n",
            "2074/2074 [==============================] - 10s 5ms/step - loss: 0.4237 - accuracy: 0.9267\n",
            "Epoch 8/20\n",
            "2074/2074 [==============================] - 10s 5ms/step - loss: 0.4264 - accuracy: 0.9243\n",
            "Epoch 9/20\n",
            "2074/2074 [==============================] - 10s 5ms/step - loss: 0.4138 - accuracy: 0.9253\n",
            "Epoch 10/20\n",
            "2074/2074 [==============================] - 10s 5ms/step - loss: 0.3929 - accuracy: 0.9349\n",
            "Epoch 11/20\n",
            "2074/2074 [==============================] - 10s 5ms/step - loss: 0.4092 - accuracy: 0.9204\n",
            "Epoch 12/20\n",
            "2074/2074 [==============================] - 10s 5ms/step - loss: 0.3907 - accuracy: 0.9320\n",
            "Epoch 13/20\n",
            "2074/2074 [==============================] - 10s 5ms/step - loss: 0.3876 - accuracy: 0.9335\n",
            "Epoch 14/20\n",
            "2074/2074 [==============================] - 10s 5ms/step - loss: 0.3832 - accuracy: 0.9344\n",
            "Epoch 15/20\n",
            "2074/2074 [==============================] - 10s 5ms/step - loss: 0.3679 - accuracy: 0.9383\n",
            "Epoch 16/20\n",
            "2074/2074 [==============================] - 10s 5ms/step - loss: 0.3662 - accuracy: 0.9378\n",
            "Epoch 17/20\n",
            "2074/2074 [==============================] - 10s 5ms/step - loss: 0.3669 - accuracy: 0.9349\n",
            "Epoch 18/20\n",
            "2074/2074 [==============================] - 10s 5ms/step - loss: 0.3522 - accuracy: 0.9455\n",
            "Epoch 19/20\n",
            "2074/2074 [==============================] - 10s 5ms/step - loss: 0.3782 - accuracy: 0.9325\n",
            "Epoch 20/20\n",
            "2074/2074 [==============================] - 10s 5ms/step - loss: 0.3640 - accuracy: 0.9354\n"
          ],
          "name": "stdout"
        },
        {
          "output_type": "execute_result",
          "data": {
            "text/plain": [
              "<keras.callbacks.callbacks.History at 0x1a78965e6d8>"
            ]
          },
          "metadata": {
            "tags": []
          },
          "execution_count": 29
        }
      ]
    },
    {
      "cell_type": "code",
      "metadata": {
        "id": "_1IXFlO1CH59",
        "outputId": "57e7c3a5-7f95-45e5-d731-dc5571477d38"
      },
      "source": [
        "model_3.evaluate(X_test, Y_test)[1]"
      ],
      "execution_count": null,
      "outputs": [
        {
          "output_type": "stream",
          "text": [
            "889/889 [==============================] - 1s 900us/step\n"
          ],
          "name": "stdout"
        },
        {
          "output_type": "execute_result",
          "data": {
            "text/plain": [
              "0.9325084090232849"
            ]
          },
          "metadata": {
            "tags": []
          },
          "execution_count": 30
        }
      ]
    },
    {
      "cell_type": "code",
      "metadata": {
        "id": "tcDgMfpeCH59"
      },
      "source": [
        "# Testing Class\n",
        "y_pred = model_3.predict_classes(X_test)\n",
        "#Training class\n",
        "Y_pred = model_3.predict_classes(X_train)"
      ],
      "execution_count": null,
      "outputs": []
    },
    {
      "cell_type": "code",
      "metadata": {
        "id": "IQtaSYfWCH5-",
        "outputId": "71a6ed16-b6b1-4d2b-ce65-df4d8e5b4638"
      },
      "source": [
        "model_3.summary()"
      ],
      "execution_count": null,
      "outputs": [
        {
          "output_type": "stream",
          "text": [
            "Model: \"sequential_1\"\n",
            "_________________________________________________________________\n",
            "Layer (type)                 Output Shape              Param #   \n",
            "=================================================================\n",
            "dense_1 (Dense)              (None, 1000)              29000     \n",
            "_________________________________________________________________\n",
            "dropout_1 (Dropout)          (None, 1000)              0         \n",
            "_________________________________________________________________\n",
            "dense_2 (Dense)              (None, 1000)              1001000   \n",
            "_________________________________________________________________\n",
            "dropout_2 (Dropout)          (None, 1000)              0         \n",
            "_________________________________________________________________\n",
            "dense_3 (Dense)              (None, 1000)              1001000   \n",
            "_________________________________________________________________\n",
            "dropout_3 (Dropout)          (None, 1000)              0         \n",
            "_________________________________________________________________\n",
            "dense_4 (Dense)              (None, 1000)              1001000   \n",
            "_________________________________________________________________\n",
            "dropout_4 (Dropout)          (None, 1000)              0         \n",
            "_________________________________________________________________\n",
            "dense_5 (Dense)              (None, 1000)              1001000   \n",
            "_________________________________________________________________\n",
            "dropout_5 (Dropout)          (None, 1000)              0         \n",
            "_________________________________________________________________\n",
            "dense_6 (Dense)              (None, 1000)              1001000   \n",
            "_________________________________________________________________\n",
            "dropout_6 (Dropout)          (None, 1000)              0         \n",
            "_________________________________________________________________\n",
            "dense_7 (Dense)              (None, 1)                 1001      \n",
            "=================================================================\n",
            "Total params: 5,035,001\n",
            "Trainable params: 5,035,001\n",
            "Non-trainable params: 0\n",
            "_________________________________________________________________\n"
          ],
          "name": "stdout"
        }
      ]
    },
    {
      "cell_type": "code",
      "metadata": {
        "id": "D6mBM3dgCH5-",
        "outputId": "e1823537-7a33-4e87-f003-528d1f292429"
      },
      "source": [
        "from sklearn.metrics import confusion_matrix, precision_score, recall_score, f1_score, cohen_kappa_score\n",
        "from sklearn.metrics import log_loss\n",
        "# Confusion matrix -- testig class\n",
        "confusion_matrix(Y_test, y_pred)"
      ],
      "execution_count": null,
      "outputs": [
        {
          "output_type": "execute_result",
          "data": {
            "text/plain": [
              "array([[392,  38],\n",
              "       [ 22, 437]], dtype=int64)"
            ]
          },
          "metadata": {
            "tags": []
          },
          "execution_count": 33
        }
      ]
    },
    {
      "cell_type": "code",
      "metadata": {
        "id": "OWY19Sd5CH5_",
        "outputId": "7e1b04dd-6102-4cfc-affe-959b1ae1fb97"
      },
      "source": [
        "# Confusion matrix -- training class\n",
        "confusion_matrix(Y_train, Y_pred)"
      ],
      "execution_count": null,
      "outputs": [
        {
          "output_type": "execute_result",
          "data": {
            "text/plain": [
              "array([[ 861,   55],\n",
              "       [  50, 1108]], dtype=int64)"
            ]
          },
          "metadata": {
            "tags": []
          },
          "execution_count": 34
        }
      ]
    },
    {
      "cell_type": "code",
      "metadata": {
        "id": "LT5OlEd3CH6C",
        "outputId": "a0fb0161-72eb-457d-e36a-4d67a901aee5"
      },
      "source": [
        "print(\"Testing Class Evaluation Metrics\\n\")\n",
        "print(\"Testing Precision Score = \",precision_score(Y_test, y_pred))\n",
        "print(\"Testing Recall Score = \",recall_score(Y_test, y_pred))\n",
        "print(\"Testing F1 Score = \",f1_score(Y_test, y_pred))\n",
        "print(\"Testing Cohen Kappa Score = \",cohen_kappa_score(Y_test, y_pred))\n",
        "print(\"Testing Loss = \",log_loss(Y_test, y_pred))"
      ],
      "execution_count": null,
      "outputs": [
        {
          "output_type": "stream",
          "text": [
            "Testing Class Evaluation Metrics\n",
            "\n",
            "Testing Precision Score =  0.92\n",
            "Testing Recall Score =  0.9520697167755992\n",
            "Testing F1 Score =  0.9357601713062099\n",
            "Testing Cohen Kappa Score =  0.8647140581724477\n",
            "Testing Loss =  2.3311102006715285\n"
          ],
          "name": "stdout"
        }
      ]
    },
    {
      "cell_type": "code",
      "metadata": {
        "id": "_N7C_qx9CH6D",
        "outputId": "b372a903-4b54-44e9-d586-4d72823e09bc"
      },
      "source": [
        "print(\"Training Class Evaluation Metrics\\n\")\n",
        "print(\"Training Precision Score = \",precision_score(Y_train, Y_pred))\n",
        "print(\"Training Recall Score = \",recall_score(Y_train, Y_pred))\n",
        "print(\"Training F1 Score = \",f1_score(Y_train, Y_pred))\n",
        "print(\"Training Cohen Kappa Score = \",cohen_kappa_score(Y_train, Y_pred))\n",
        "print(\"Training Loss = \",log_loss(Y_train, Y_pred))"
      ],
      "execution_count": null,
      "outputs": [
        {
          "output_type": "stream",
          "text": [
            "Training Class Evaluation Metrics\n",
            "\n",
            "Training Precision Score =  0.9527085124677558\n",
            "Training Recall Score =  0.9568221070811744\n",
            "Training F1 Score =  0.9547608789314951\n",
            "Training Cohen Kappa Score =  0.8972902200971019\n",
            "Training Loss =  1.7486092089316703\n"
          ],
          "name": "stdout"
        }
      ]
    },
    {
      "cell_type": "markdown",
      "metadata": {
        "id": "6HvfHp2-CH6F"
      },
      "source": [
        "# Deep Neural Network(DNN)"
      ]
    },
    {
      "cell_type": "code",
      "metadata": {
        "id": "roQMp_vXCH6G",
        "outputId": "fa56376a-26b4-4fdd-feec-72e01ca8977e"
      },
      "source": [
        "from keras.models import Sequential\n",
        "from keras.layers import Dense\n",
        "model_4 = Sequential()\n",
        "\n",
        "# Add an input layer --> 12 nodes --> output is of shape (*,12)\n",
        "model_4.add(Dense(12, input_shape=(28,)))\n",
        "\n",
        "# Add 10 hidden layer --> output is of shape (*,8)\n",
        "model_4.add(Dense(8, activation='relu'))\n",
        "model_4.add(Dense(8, activation='relu'))\n",
        "model_4.add(Dense(8, activation='relu'))\n",
        "model_4.add(Dense(8, activation='relu'))\n",
        "model_4.add(Dense(8, activation='relu'))\n",
        "model_4.add(Dense(8, activation='relu'))\n",
        "model_4.add(Dense(8, activation='relu'))\n",
        "model_4.add(Dense(8, activation='relu'))\n",
        "model_4.add(Dense(8, activation='relu'))\n",
        "model_4.add(Dense(8, activation='relu'))\n",
        "\n",
        "# Add an output layer having a dense layer of size 1\n",
        "model_4.add(Dense(1, activation='sigmoid'))\n"
      ],
      "execution_count": null,
      "outputs": [
        {
          "output_type": "stream",
          "text": [
            "Using TensorFlow backend.\n"
          ],
          "name": "stderr"
        }
      ]
    },
    {
      "cell_type": "code",
      "metadata": {
        "id": "QdYltG6RCH6K"
      },
      "source": [
        "model_4.compile(loss='binary_crossentropy',\n",
        "              optimizer='adam',\n",
        "              metrics=['accuracy'])"
      ],
      "execution_count": null,
      "outputs": []
    },
    {
      "cell_type": "code",
      "metadata": {
        "id": "YaLRlBo3CH6L",
        "outputId": "dd698782-f99c-421d-df4f-1224400763a0"
      },
      "source": [
        "model_4.fit(X_train, Y_train, epochs=20, batch_size=1, verbose=1)"
      ],
      "execution_count": null,
      "outputs": [
        {
          "output_type": "stream",
          "text": [
            "Epoch 1/20\n",
            "2074/2074 [==============================] - 3s 2ms/step - loss: 0.3294 - accuracy: 0.8578\n",
            "Epoch 2/20\n",
            "2074/2074 [==============================] - 3s 1ms/step - loss: 0.2056 - accuracy: 0.9248\n",
            "Epoch 3/20\n",
            "2074/2074 [==============================] - 3s 2ms/step - loss: 0.1828 - accuracy: 0.9388\n",
            "Epoch 4/20\n",
            "2074/2074 [==============================] - 3s 2ms/step - loss: 0.1622 - accuracy: 0.9450\n",
            "Epoch 5/20\n",
            "2074/2074 [==============================] - 3s 1ms/step - loss: 0.1582 - accuracy: 0.9421\n",
            "Epoch 6/20\n",
            "2074/2074 [==============================] - 3s 1ms/step - loss: 0.1343 - accuracy: 0.9518\n",
            "Epoch 7/20\n",
            "2074/2074 [==============================] - 3s 1ms/step - loss: 0.1326 - accuracy: 0.9576\n",
            "Epoch 8/20\n",
            "2074/2074 [==============================] - 3s 1ms/step - loss: 0.1192 - accuracy: 0.9590\n",
            "Epoch 9/20\n",
            "2074/2074 [==============================] - 3s 2ms/step - loss: 0.1083 - accuracy: 0.9638\n",
            "Epoch 10/20\n",
            "2074/2074 [==============================] - 3s 1ms/step - loss: 0.1050 - accuracy: 0.9648\n",
            "Epoch 11/20\n",
            "2074/2074 [==============================] - 3s 1ms/step - loss: 0.0926 - accuracy: 0.9619\n",
            "Epoch 12/20\n",
            "2074/2074 [==============================] - 3s 1ms/step - loss: 0.0819 - accuracy: 0.9730\n",
            "Epoch 13/20\n",
            "2074/2074 [==============================] - 3s 1ms/step - loss: 0.0903 - accuracy: 0.9648\n",
            "Epoch 14/20\n",
            "2074/2074 [==============================] - 4s 2ms/step - loss: 0.0764 - accuracy: 0.9701: 0s - loss: 0.0762 - accuracy: \n",
            "Epoch 15/20\n",
            "2074/2074 [==============================] - 4s 2ms/step - loss: 0.0817 - accuracy: 0.9653\n",
            "Epoch 16/20\n",
            "2074/2074 [==============================] - 3s 1ms/step - loss: 0.0784 - accuracy: 0.9725\n",
            "Epoch 17/20\n",
            "2074/2074 [==============================] - 3s 1ms/step - loss: 0.0747 - accuracy: 0.9701\n",
            "Epoch 18/20\n",
            "2074/2074 [==============================] - 3s 1ms/step - loss: 0.0693 - accuracy: 0.9740\n",
            "Epoch 19/20\n",
            "2074/2074 [==============================] - 5s 2ms/step - loss: 0.0664 - accuracy: 0.9740\n",
            "Epoch 20/20\n",
            "2074/2074 [==============================] - 3s 1ms/step - loss: 0.0660 - accuracy: 0.9759\n"
          ],
          "name": "stdout"
        },
        {
          "output_type": "execute_result",
          "data": {
            "text/plain": [
              "<keras.callbacks.callbacks.History at 0x17185d95940>"
            ]
          },
          "metadata": {
            "tags": []
          },
          "execution_count": 28
        }
      ]
    },
    {
      "cell_type": "code",
      "metadata": {
        "id": "EmXALQWiCH6L",
        "outputId": "9335fcf2-f34d-4261-e6fd-12eda94dfbb4"
      },
      "source": [
        "model_4.evaluate(X_test, Y_test)[1]"
      ],
      "execution_count": null,
      "outputs": [
        {
          "output_type": "stream",
          "text": [
            "889/889 [==============================] - 0s 54us/step\n"
          ],
          "name": "stdout"
        },
        {
          "output_type": "execute_result",
          "data": {
            "text/plain": [
              "0.9640045166015625"
            ]
          },
          "metadata": {
            "tags": []
          },
          "execution_count": 29
        }
      ]
    },
    {
      "cell_type": "code",
      "metadata": {
        "id": "gDBFPwUdCH6L",
        "outputId": "9f99439a-a299-455e-ba27-f2596b3e9340"
      },
      "source": [
        "model_4.summary()"
      ],
      "execution_count": null,
      "outputs": [
        {
          "output_type": "stream",
          "text": [
            "Model: \"sequential_1\"\n",
            "_________________________________________________________________\n",
            "Layer (type)                 Output Shape              Param #   \n",
            "=================================================================\n",
            "dense_1 (Dense)              (None, 12)                348       \n",
            "_________________________________________________________________\n",
            "dense_2 (Dense)              (None, 8)                 104       \n",
            "_________________________________________________________________\n",
            "dense_3 (Dense)              (None, 8)                 72        \n",
            "_________________________________________________________________\n",
            "dense_4 (Dense)              (None, 8)                 72        \n",
            "_________________________________________________________________\n",
            "dense_5 (Dense)              (None, 8)                 72        \n",
            "_________________________________________________________________\n",
            "dense_6 (Dense)              (None, 8)                 72        \n",
            "_________________________________________________________________\n",
            "dense_7 (Dense)              (None, 8)                 72        \n",
            "_________________________________________________________________\n",
            "dense_8 (Dense)              (None, 8)                 72        \n",
            "_________________________________________________________________\n",
            "dense_9 (Dense)              (None, 8)                 72        \n",
            "_________________________________________________________________\n",
            "dense_10 (Dense)             (None, 8)                 72        \n",
            "_________________________________________________________________\n",
            "dense_11 (Dense)             (None, 8)                 72        \n",
            "_________________________________________________________________\n",
            "dense_12 (Dense)             (None, 1)                 9         \n",
            "=================================================================\n",
            "Total params: 1,109\n",
            "Trainable params: 1,109\n",
            "Non-trainable params: 0\n",
            "_________________________________________________________________\n"
          ],
          "name": "stdout"
        }
      ]
    },
    {
      "cell_type": "code",
      "metadata": {
        "id": "XQdIRKCxCH6M"
      },
      "source": [
        "#Testing class\n",
        "y_pred = model_4.predict_classes(X_test)\n",
        "#Training class\n",
        "Y_pred = model_4.predict_classes(X_train)"
      ],
      "execution_count": null,
      "outputs": []
    },
    {
      "cell_type": "code",
      "metadata": {
        "id": "k0xosUuUCH6M",
        "outputId": "fce9fa24-5256-467e-d99b-41f900aea3bb"
      },
      "source": [
        "from sklearn.metrics import confusion_matrix, precision_score, recall_score, f1_score, cohen_kappa_score\n",
        "from sklearn.metrics import log_loss\n",
        "# Confusion Matrix -- Testing Class\n",
        "confusion_matrix(Y_test, y_pred)"
      ],
      "execution_count": null,
      "outputs": [
        {
          "output_type": "execute_result",
          "data": {
            "text/plain": [
              "array([[378,  11],\n",
              "       [ 21, 479]], dtype=int64)"
            ]
          },
          "metadata": {
            "tags": []
          },
          "execution_count": 32
        }
      ]
    },
    {
      "cell_type": "code",
      "metadata": {
        "id": "5tJ9QqOfCH6M",
        "outputId": "1b3d4e56-57bc-4ee3-9a92-7c78e598c91f"
      },
      "source": [
        "# Confusion matrix -- training class\n",
        "confusion_matrix(Y_train, Y_pred)"
      ],
      "execution_count": null,
      "outputs": [
        {
          "output_type": "execute_result",
          "data": {
            "text/plain": [
              "array([[ 943,   14],\n",
              "       [  25, 1092]], dtype=int64)"
            ]
          },
          "metadata": {
            "tags": []
          },
          "execution_count": 33
        }
      ]
    },
    {
      "cell_type": "code",
      "metadata": {
        "id": "QyztHui9CH6M",
        "outputId": "abaa7450-4064-4b60-ae93-66cd216fdde6"
      },
      "source": [
        "print(\"Testing Class Evaluation Metrics\\n\")\n",
        "print(\"Testing Precision Score = \",precision_score(Y_test, y_pred))\n",
        "print(\"Testing Recall Score = \",recall_score(Y_test, y_pred))\n",
        "print(\"Testing F1 Score = \",f1_score(Y_test, y_pred))\n",
        "print(\"Testing Cohen Kappa Score = \",cohen_kappa_score(Y_test, y_pred))\n",
        "print(\"Testing Loss = \",log_loss(Y_test, y_pred))"
      ],
      "execution_count": null,
      "outputs": [
        {
          "output_type": "stream",
          "text": [
            "Testing Class Evaluation Metrics\n",
            "\n",
            "Testing Precision Score =  0.9775510204081632\n",
            "Testing Recall Score =  0.958\n",
            "Testing F1 Score =  0.9676767676767676\n",
            "Testing Cohen Kappa Score =  0.9270769782881751\n",
            "Testing Loss =  1.2432504389301178\n"
          ],
          "name": "stdout"
        }
      ]
    },
    {
      "cell_type": "code",
      "metadata": {
        "id": "0RN6JqBsCH6M",
        "outputId": "9c9e3d12-2d77-4a6b-aeae-14da32058e9f"
      },
      "source": [
        "print(\"Training Class Evaluation Metrics\\n\")\n",
        "print(\"Training Precision Score = \",precision_score(Y_train, Y_pred))\n",
        "print(\"Training Recall Score = \",recall_score(Y_train, Y_pred))\n",
        "print(\"Training F1 Score = \",f1_score(Y_train, Y_pred))\n",
        "print(\"Training Cohen Kappa Score = \",cohen_kappa_score(Y_train, Y_pred))\n",
        "print(\"Training Loss = \",log_loss(Y_train, Y_pred))"
      ],
      "execution_count": null,
      "outputs": [
        {
          "output_type": "stream",
          "text": [
            "Training Class Evaluation Metrics\n",
            "\n",
            "Training Precision Score =  0.9873417721518988\n",
            "Training Recall Score =  0.9776186213070726\n",
            "Training F1 Score =  0.9824561403508774\n",
            "Training Cohen Kappa Score =  0.9621974689886142\n",
            "Training Loss =  0.6494809420277441\n"
          ],
          "name": "stdout"
        }
      ]
    },
    {
      "cell_type": "markdown",
      "metadata": {
        "id": "U-ML6qHyCH6N"
      },
      "source": [
        "# Implementing Dropout with Xavier Normal Initialization"
      ]
    },
    {
      "cell_type": "code",
      "metadata": {
        "id": "9hB70mQmCH6N",
        "outputId": "88a9f1d4-7c23-4638-b0a3-3d6093ae9bf9"
      },
      "source": [
        "from keras.models import Sequential\n",
        "from keras.layers import Dense\n",
        "from keras.initializers import glorot_normal\n",
        "from keras.layers import Dropout\n",
        "initializer = glorot_normal()\n",
        "model_5 = Sequential([\n",
        "    Dense(100, input_shape=(28,),kernel_initializer=initializer),\n",
        "    Dropout(0.2),\n",
        "    Dense(100, activation='tanh',kernel_initializer=initializer),\n",
        "    Dropout(0.2),\n",
        "    Dense(100, activation='tanh',kernel_initializer=initializer),\n",
        "    Dropout(0.2),\n",
        "    Dense(100, activation='tanh',kernel_initializer=initializer),\n",
        "    Dropout(0.2),\n",
        "    Dense(100, activation='tanh',kernel_initializer=initializer),\n",
        "    Dropout(0.2),\n",
        "    Dense(100, activation='tanh',kernel_initializer=initializer),\n",
        "    Dropout(0.2),\n",
        "    Dense(1, activation='sigmoid',kernel_initializer=initializer),\n",
        "])"
      ],
      "execution_count": null,
      "outputs": [
        {
          "output_type": "stream",
          "text": [
            "Using TensorFlow backend.\n"
          ],
          "name": "stderr"
        }
      ]
    },
    {
      "cell_type": "code",
      "metadata": {
        "id": "pAF9uUVlCH6N"
      },
      "source": [
        "model_5.compile(optimizer='adam',\n",
        "              loss='binary_crossentropy',\n",
        "              metrics=['accuracy'])"
      ],
      "execution_count": null,
      "outputs": []
    },
    {
      "cell_type": "code",
      "metadata": {
        "id": "GV60-Q3MCH6N",
        "outputId": "96e08670-29bc-475d-e030-03933085d430"
      },
      "source": [
        "model_5.fit(X_train, Y_train,\n",
        "          batch_size=32, epochs=80)"
      ],
      "execution_count": null,
      "outputs": [
        {
          "output_type": "stream",
          "text": [
            "Epoch 1/80\n",
            "2074/2074 [==============================] - 1s 381us/step - loss: 0.3569 - accuracy: 0.8361\n",
            "Epoch 2/80\n",
            "2074/2074 [==============================] - 0s 112us/step - loss: 0.2538 - accuracy: 0.9002\n",
            "Epoch 3/80\n",
            "2074/2074 [==============================] - 0s 114us/step - loss: 0.2390 - accuracy: 0.9069\n",
            "Epoch 4/80\n",
            "2074/2074 [==============================] - 0s 114us/step - loss: 0.2502 - accuracy: 0.9002\n",
            "Epoch 5/80\n",
            "2074/2074 [==============================] - 0s 112us/step - loss: 0.2137 - accuracy: 0.9108\n",
            "Epoch 6/80\n",
            "2074/2074 [==============================] - 0s 110us/step - loss: 0.2015 - accuracy: 0.9214\n",
            "Epoch 7/80\n",
            "2074/2074 [==============================] - 0s 112us/step - loss: 0.1921 - accuracy: 0.9243\n",
            "Epoch 8/80\n",
            "2074/2074 [==============================] - 0s 114us/step - loss: 0.1895 - accuracy: 0.9229\n",
            "Epoch 9/80\n",
            "2074/2074 [==============================] - 0s 109us/step - loss: 0.1748 - accuracy: 0.9301\n",
            "Epoch 10/80\n",
            "2074/2074 [==============================] - 0s 111us/step - loss: 0.1807 - accuracy: 0.9330\n",
            "Epoch 11/80\n",
            "2074/2074 [==============================] - 0s 111us/step - loss: 0.1617 - accuracy: 0.9392\n",
            "Epoch 12/80\n",
            "2074/2074 [==============================] - 0s 113us/step - loss: 0.1599 - accuracy: 0.9392\n",
            "Epoch 13/80\n",
            "2074/2074 [==============================] - 0s 112us/step - loss: 0.1423 - accuracy: 0.9503\n",
            "Epoch 14/80\n",
            "2074/2074 [==============================] - 0s 108us/step - loss: 0.1411 - accuracy: 0.9494\n",
            "Epoch 15/80\n",
            "2074/2074 [==============================] - 0s 112us/step - loss: 0.1430 - accuracy: 0.9499\n",
            "Epoch 16/80\n",
            "2074/2074 [==============================] - 0s 115us/step - loss: 0.1339 - accuracy: 0.9523\n",
            "Epoch 17/80\n",
            "2074/2074 [==============================] - 0s 109us/step - loss: 0.1262 - accuracy: 0.9552\n",
            "Epoch 18/80\n",
            "2074/2074 [==============================] - 0s 111us/step - loss: 0.1136 - accuracy: 0.9605\n",
            "Epoch 19/80\n",
            "2074/2074 [==============================] - 0s 116us/step - loss: 0.1127 - accuracy: 0.9624\n",
            "Epoch 20/80\n",
            "2074/2074 [==============================] - 0s 129us/step - loss: 0.1009 - accuracy: 0.9624\n",
            "Epoch 21/80\n",
            "2074/2074 [==============================] - 0s 125us/step - loss: 0.1071 - accuracy: 0.9614\n",
            "Epoch 22/80\n",
            "2074/2074 [==============================] - 0s 124us/step - loss: 0.1044 - accuracy: 0.9595\n",
            "Epoch 23/80\n",
            "2074/2074 [==============================] - 0s 126us/step - loss: 0.0888 - accuracy: 0.9672\n",
            "Epoch 24/80\n",
            "2074/2074 [==============================] - 0s 125us/step - loss: 0.1088 - accuracy: 0.9619\n",
            "Epoch 25/80\n",
            "2074/2074 [==============================] - 0s 125us/step - loss: 0.0905 - accuracy: 0.9706\n",
            "Epoch 26/80\n",
            "2074/2074 [==============================] - 0s 120us/step - loss: 0.0937 - accuracy: 0.9638\n",
            "Epoch 27/80\n",
            "2074/2074 [==============================] - 0s 123us/step - loss: 0.0751 - accuracy: 0.9725\n",
            "Epoch 28/80\n",
            "2074/2074 [==============================] - 0s 132us/step - loss: 0.0773 - accuracy: 0.9730\n",
            "Epoch 29/80\n",
            "2074/2074 [==============================] - 0s 141us/step - loss: 0.0806 - accuracy: 0.9691\n",
            "Epoch 30/80\n",
            "2074/2074 [==============================] - 0s 131us/step - loss: 0.0665 - accuracy: 0.9749\n",
            "Epoch 31/80\n",
            "2074/2074 [==============================] - 0s 122us/step - loss: 0.0715 - accuracy: 0.9749\n",
            "Epoch 32/80\n",
            "2074/2074 [==============================] - 0s 136us/step - loss: 0.0686 - accuracy: 0.9735\n",
            "Epoch 33/80\n",
            "2074/2074 [==============================] - 0s 134us/step - loss: 0.0580 - accuracy: 0.9749\n",
            "Epoch 34/80\n",
            "2074/2074 [==============================] - 0s 132us/step - loss: 0.0658 - accuracy: 0.9807\n",
            "Epoch 35/80\n",
            "2074/2074 [==============================] - 0s 151us/step - loss: 0.0681 - accuracy: 0.9725\n",
            "Epoch 36/80\n",
            "2074/2074 [==============================] - 0s 159us/step - loss: 0.0539 - accuracy: 0.9802\n",
            "Epoch 37/80\n",
            "2074/2074 [==============================] - 0s 145us/step - loss: 0.0502 - accuracy: 0.9807\n",
            "Epoch 38/80\n",
            "2074/2074 [==============================] - 0s 131us/step - loss: 0.0568 - accuracy: 0.9783\n",
            "Epoch 39/80\n",
            "2074/2074 [==============================] - 0s 146us/step - loss: 0.0571 - accuracy: 0.9769\n",
            "Epoch 40/80\n",
            "2074/2074 [==============================] - 0s 159us/step - loss: 0.0677 - accuracy: 0.9759\n",
            "Epoch 41/80\n",
            "2074/2074 [==============================] - 0s 154us/step - loss: 0.0574 - accuracy: 0.9793\n",
            "Epoch 42/80\n",
            "2074/2074 [==============================] - 0s 158us/step - loss: 0.0625 - accuracy: 0.9749\n",
            "Epoch 43/80\n",
            "2074/2074 [==============================] - 0s 122us/step - loss: 0.0445 - accuracy: 0.9841\n",
            "Epoch 44/80\n",
            "2074/2074 [==============================] - 0s 151us/step - loss: 0.0459 - accuracy: 0.9846\n",
            "Epoch 45/80\n",
            "2074/2074 [==============================] - 0s 172us/step - loss: 0.0491 - accuracy: 0.9831\n",
            "Epoch 46/80\n",
            "2074/2074 [==============================] - 0s 154us/step - loss: 0.0460 - accuracy: 0.9860\n",
            "Epoch 47/80\n",
            "2074/2074 [==============================] - 0s 126us/step - loss: 0.0414 - accuracy: 0.9855\n",
            "Epoch 48/80\n",
            "2074/2074 [==============================] - 0s 120us/step - loss: 0.0416 - accuracy: 0.9870\n",
            "Epoch 49/80\n",
            "2074/2074 [==============================] - 0s 115us/step - loss: 0.0486 - accuracy: 0.9836\n",
            "Epoch 50/80\n",
            "2074/2074 [==============================] - 0s 126us/step - loss: 0.0425 - accuracy: 0.9884\n",
            "Epoch 51/80\n",
            "2074/2074 [==============================] - 0s 164us/step - loss: 0.0404 - accuracy: 0.9884\n",
            "Epoch 52/80\n",
            "2074/2074 [==============================] - 0s 152us/step - loss: 0.0404 - accuracy: 0.9855\n",
            "Epoch 53/80\n",
            "2074/2074 [==============================] - 0s 121us/step - loss: 0.0379 - accuracy: 0.9875\n",
            "Epoch 54/80\n",
            "2074/2074 [==============================] - 0s 115us/step - loss: 0.0337 - accuracy: 0.9865\n",
            "Epoch 55/80\n",
            "2074/2074 [==============================] - 0s 108us/step - loss: 0.0375 - accuracy: 0.9831\n",
            "Epoch 56/80\n",
            "2074/2074 [==============================] - 0s 109us/step - loss: 0.0407 - accuracy: 0.9846\n",
            "Epoch 57/80\n",
            "2074/2074 [==============================] - 0s 107us/step - loss: 0.0416 - accuracy: 0.9851\n",
            "Epoch 58/80\n",
            "2074/2074 [==============================] - 0s 140us/step - loss: 0.0374 - accuracy: 0.9851\n",
            "Epoch 59/80\n",
            "2074/2074 [==============================] - 0s 153us/step - loss: 0.0303 - accuracy: 0.9884\n",
            "Epoch 60/80\n",
            "2074/2074 [==============================] - 0s 140us/step - loss: 0.0332 - accuracy: 0.9879\n",
            "Epoch 61/80\n",
            "2074/2074 [==============================] - 0s 171us/step - loss: 0.0312 - accuracy: 0.9889\n",
            "Epoch 62/80\n",
            "2074/2074 [==============================] - 0s 138us/step - loss: 0.0461 - accuracy: 0.9841\n",
            "Epoch 63/80\n",
            "2074/2074 [==============================] - 0s 113us/step - loss: 0.0344 - accuracy: 0.9899\n",
            "Epoch 64/80\n",
            "2074/2074 [==============================] - 0s 159us/step - loss: 0.0313 - accuracy: 0.9894\n",
            "Epoch 65/80\n",
            "2074/2074 [==============================] - 0s 152us/step - loss: 0.0366 - accuracy: 0.9875\n",
            "Epoch 66/80\n",
            "2074/2074 [==============================] - 0s 143us/step - loss: 0.0289 - accuracy: 0.9899\n",
            "Epoch 67/80\n",
            "2074/2074 [==============================] - 0s 159us/step - loss: 0.0357 - accuracy: 0.9879\n",
            "Epoch 68/80\n",
            "2074/2074 [==============================] - 0s 151us/step - loss: 0.0258 - accuracy: 0.9913\n",
            "Epoch 69/80\n",
            "2074/2074 [==============================] - 0s 162us/step - loss: 0.0395 - accuracy: 0.9865\n",
            "Epoch 70/80\n",
            "2074/2074 [==============================] - 0s 146us/step - loss: 0.0272 - accuracy: 0.9913\n",
            "Epoch 71/80\n",
            "2074/2074 [==============================] - 0s 116us/step - loss: 0.0280 - accuracy: 0.9913\n",
            "Epoch 72/80\n",
            "2074/2074 [==============================] - 0s 116us/step - loss: 0.0268 - accuracy: 0.9918\n",
            "Epoch 73/80\n",
            "2074/2074 [==============================] - 0s 113us/step - loss: 0.0402 - accuracy: 0.9860\n",
            "Epoch 74/80\n",
            "2074/2074 [==============================] - 0s 116us/step - loss: 0.0353 - accuracy: 0.9875\n",
            "Epoch 75/80\n",
            "2074/2074 [==============================] - 0s 110us/step - loss: 0.0223 - accuracy: 0.9913\n",
            "Epoch 76/80\n",
            "2074/2074 [==============================] - 0s 130us/step - loss: 0.0267 - accuracy: 0.9894\n",
            "Epoch 77/80\n",
            "2074/2074 [==============================] - 0s 126us/step - loss: 0.0349 - accuracy: 0.9899\n",
            "Epoch 78/80\n",
            "2074/2074 [==============================] - 0s 141us/step - loss: 0.0332 - accuracy: 0.9913\n",
            "Epoch 79/80\n"
          ],
          "name": "stdout"
        },
        {
          "output_type": "stream",
          "text": [
            "2074/2074 [==============================] - 0s 125us/step - loss: 0.0345 - accuracy: 0.9865\n",
            "Epoch 80/80\n",
            "2074/2074 [==============================] - 0s 130us/step - loss: 0.0185 - accuracy: 0.9928\n"
          ],
          "name": "stdout"
        },
        {
          "output_type": "execute_result",
          "data": {
            "text/plain": [
              "<keras.callbacks.callbacks.History at 0x1b8302105c0>"
            ]
          },
          "metadata": {
            "tags": []
          },
          "execution_count": 28
        }
      ]
    },
    {
      "cell_type": "code",
      "metadata": {
        "id": "DhZX0hFsCH6O",
        "outputId": "51779da0-8069-447c-b77c-0dc42460e2be"
      },
      "source": [
        "model_5.evaluate(X_test, Y_test)[1]"
      ],
      "execution_count": null,
      "outputs": [
        {
          "output_type": "stream",
          "text": [
            "889/889 [==============================] - 0s 113us/step\n"
          ],
          "name": "stdout"
        },
        {
          "output_type": "execute_result",
          "data": {
            "text/plain": [
              "0.9640045166015625"
            ]
          },
          "metadata": {
            "tags": []
          },
          "execution_count": 29
        }
      ]
    },
    {
      "cell_type": "code",
      "metadata": {
        "id": "F61UHjweCH6O",
        "outputId": "d53b25c3-3fed-4917-c3f0-f4ea916d1857"
      },
      "source": [
        "model_5.summary()"
      ],
      "execution_count": null,
      "outputs": [
        {
          "output_type": "stream",
          "text": [
            "Model: \"sequential_1\"\n",
            "_________________________________________________________________\n",
            "Layer (type)                 Output Shape              Param #   \n",
            "=================================================================\n",
            "dense_1 (Dense)              (None, 100)               2900      \n",
            "_________________________________________________________________\n",
            "dropout_1 (Dropout)          (None, 100)               0         \n",
            "_________________________________________________________________\n",
            "dense_2 (Dense)              (None, 100)               10100     \n",
            "_________________________________________________________________\n",
            "dropout_2 (Dropout)          (None, 100)               0         \n",
            "_________________________________________________________________\n",
            "dense_3 (Dense)              (None, 100)               10100     \n",
            "_________________________________________________________________\n",
            "dropout_3 (Dropout)          (None, 100)               0         \n",
            "_________________________________________________________________\n",
            "dense_4 (Dense)              (None, 100)               10100     \n",
            "_________________________________________________________________\n",
            "dropout_4 (Dropout)          (None, 100)               0         \n",
            "_________________________________________________________________\n",
            "dense_5 (Dense)              (None, 100)               10100     \n",
            "_________________________________________________________________\n",
            "dropout_5 (Dropout)          (None, 100)               0         \n",
            "_________________________________________________________________\n",
            "dense_6 (Dense)              (None, 100)               10100     \n",
            "_________________________________________________________________\n",
            "dropout_6 (Dropout)          (None, 100)               0         \n",
            "_________________________________________________________________\n",
            "dense_7 (Dense)              (None, 1)                 101       \n",
            "=================================================================\n",
            "Total params: 53,501\n",
            "Trainable params: 53,501\n",
            "Non-trainable params: 0\n",
            "_________________________________________________________________\n"
          ],
          "name": "stdout"
        }
      ]
    },
    {
      "cell_type": "code",
      "metadata": {
        "id": "KcC9QBDuCH6O"
      },
      "source": [
        "#Testing class\n",
        "y_pred = model_5.predict_classes(X_test)\n",
        "#Training class\n",
        "Y_pred = model_5.predict_classes(X_train)"
      ],
      "execution_count": null,
      "outputs": []
    },
    {
      "cell_type": "code",
      "metadata": {
        "id": "eM4N8G72CH6P",
        "outputId": "1bcd4545-36d4-4b3f-beaf-9409189f0712"
      },
      "source": [
        "from sklearn.metrics import confusion_matrix, precision_score, recall_score, f1_score, cohen_kappa_score\n",
        "from sklearn.metrics import log_loss\n",
        "# Confusion Matrix -- Testing Class\n",
        "confusion_matrix(Y_test, y_pred)"
      ],
      "execution_count": null,
      "outputs": [
        {
          "output_type": "execute_result",
          "data": {
            "text/plain": [
              "array([[392,  24],\n",
              "       [  8, 465]], dtype=int64)"
            ]
          },
          "metadata": {
            "tags": []
          },
          "execution_count": 32
        }
      ]
    },
    {
      "cell_type": "code",
      "metadata": {
        "id": "8QFWdwDxCH6P",
        "outputId": "9e5da259-34e2-4b8d-8378-65ccbf7cab66"
      },
      "source": [
        "# Confusion matrix -- training class\n",
        "confusion_matrix(Y_train, Y_pred)"
      ],
      "execution_count": null,
      "outputs": [
        {
          "output_type": "execute_result",
          "data": {
            "text/plain": [
              "array([[ 930,    0],\n",
              "       [   0, 1144]], dtype=int64)"
            ]
          },
          "metadata": {
            "tags": []
          },
          "execution_count": 33
        }
      ]
    },
    {
      "cell_type": "code",
      "metadata": {
        "id": "QufdqRO9CH6U",
        "outputId": "3cbd437e-c4fe-40bc-a761-364f51eb9fc9"
      },
      "source": [
        "print(\"Testing Class Evaluation Metrics\\n\")\n",
        "print(\"Testing Precision Score = \",precision_score(Y_test, y_pred))\n",
        "print(\"Testing Recall Score = \",recall_score(Y_test, y_pred))\n",
        "print(\"Testing F1 Score = \",f1_score(Y_test, y_pred))\n",
        "print(\"Testing Cohen Kappa Score = \",cohen_kappa_score(Y_test, y_pred))\n",
        "print(\"Testing Loss = \",log_loss(Y_test, y_pred))"
      ],
      "execution_count": null,
      "outputs": [
        {
          "output_type": "stream",
          "text": [
            "Testing Class Evaluation Metrics\n",
            "\n",
            "Testing Precision Score =  0.950920245398773\n",
            "Testing Recall Score =  0.9830866807610994\n",
            "Testing F1 Score =  0.9667359667359666\n",
            "Testing Cohen Kappa Score =  0.9275439096947716\n",
            "Testing Loss =  1.243262131580953\n"
          ],
          "name": "stdout"
        }
      ]
    },
    {
      "cell_type": "code",
      "metadata": {
        "id": "gp3Q-lh5CH6V",
        "outputId": "c4fb7ef4-947d-43c1-bb76-dc604fc69a68"
      },
      "source": [
        "print(\"Training Class Evaluation Metrics\\n\")\n",
        "print(\"Training Precision Score = \",precision_score(Y_train, Y_pred))\n",
        "print(\"Training Recall Score = \",recall_score(Y_train, Y_pred))\n",
        "print(\"Training F1 Score = \",f1_score(Y_train, Y_pred))\n",
        "print(\"Training Cohen Kappa Score = \",cohen_kappa_score(Y_train, Y_pred))\n",
        "print(\"Training Loss = \",log_loss(Y_train, Y_pred))"
      ],
      "execution_count": null,
      "outputs": [
        {
          "output_type": "stream",
          "text": [
            "Training Class Evaluation Metrics\n",
            "\n",
            "Training Precision Score =  1.0\n",
            "Training Recall Score =  1.0\n",
            "Training F1 Score =  1.0\n",
            "Training Cohen Kappa Score =  1.0\n",
            "Training Loss =  9.992007221626413e-16\n"
          ],
          "name": "stdout"
        }
      ]
    },
    {
      "cell_type": "code",
      "metadata": {
        "id": "GW4HaAgrCH6W",
        "outputId": "7b228e10-e0f3-4b82-b175-bcebf5159adc"
      },
      "source": [
        "model_5.evaluate(X_train, Y_train)[1]"
      ],
      "execution_count": null,
      "outputs": [
        {
          "output_type": "stream",
          "text": [
            "2074/2074 [==============================] - 0s 28us/step\n"
          ],
          "name": "stdout"
        },
        {
          "output_type": "execute_result",
          "data": {
            "text/plain": [
              "1.0"
            ]
          },
          "metadata": {
            "tags": []
          },
          "execution_count": 36
        }
      ]
    },
    {
      "cell_type": "markdown",
      "metadata": {
        "id": "e-GRAvOqCH6X"
      },
      "source": [
        "# Implementing Dropout with He Normal Initialization"
      ]
    },
    {
      "cell_type": "code",
      "metadata": {
        "id": "O6n5sQfPCH6X",
        "outputId": "d64d7bcc-db52-40b5-c8f3-166e007f39da"
      },
      "source": [
        "from keras.models import Sequential\n",
        "from keras.layers import Dense\n",
        "from keras.initializers import he_normal\n",
        "from keras.layers import Dropout\n",
        "initializer = he_normal()\n",
        "model_6 = Sequential([\n",
        "    Dense(100, input_shape=(28,),kernel_initializer=initializer),\n",
        "    Dropout(0.2),\n",
        "    Dense(100, activation='relu',kernel_initializer=initializer),\n",
        "    Dropout(0.2),\n",
        "    Dense(100, activation='relu',kernel_initializer=initializer),\n",
        "    Dropout(0.2),\n",
        "    Dense(100, activation='relu',kernel_initializer=initializer),\n",
        "    Dropout(0.2),\n",
        "    Dense(100, activation='relu',kernel_initializer=initializer),\n",
        "    Dropout(0.2),\n",
        "    Dense(100, activation='relu',kernel_initializer=initializer),\n",
        "    Dropout(0.2),\n",
        "    Dense(1, activation='sigmoid',kernel_initializer=initializer),\n",
        "])"
      ],
      "execution_count": null,
      "outputs": [
        {
          "output_type": "stream",
          "text": [
            "Using TensorFlow backend.\n"
          ],
          "name": "stderr"
        }
      ]
    },
    {
      "cell_type": "code",
      "metadata": {
        "id": "s-kfz0EXCH6Y"
      },
      "source": [
        "model_6.compile(optimizer='adam',\n",
        "              loss='binary_crossentropy',\n",
        "              metrics=['accuracy'])"
      ],
      "execution_count": null,
      "outputs": []
    },
    {
      "cell_type": "code",
      "metadata": {
        "id": "Xh4HvX2rCH6Y",
        "outputId": "4781ae36-9121-4ed2-874b-5d6f137b6faf"
      },
      "source": [
        "model_6.fit(X_train, Y_train,\n",
        "          batch_size=32, epochs=80)"
      ],
      "execution_count": null,
      "outputs": [
        {
          "output_type": "stream",
          "text": [
            "Epoch 1/80\n",
            "2074/2074 [==============================] - 1s 382us/step - loss: 0.8713 - accuracy: 0.6287\n",
            "Epoch 2/80\n",
            "2074/2074 [==============================] - 0s 117us/step - loss: 0.4571 - accuracy: 0.7922\n",
            "Epoch 3/80\n",
            "2074/2074 [==============================] - 0s 117us/step - loss: 0.3685 - accuracy: 0.8472\n",
            "Epoch 4/80\n",
            "2074/2074 [==============================] - 0s 113us/step - loss: 0.2955 - accuracy: 0.8780\n",
            "Epoch 5/80\n",
            "2074/2074 [==============================] - 0s 114us/step - loss: 0.2807 - accuracy: 0.8862\n",
            "Epoch 6/80\n",
            "2074/2074 [==============================] - 0s 113us/step - loss: 0.2459 - accuracy: 0.9113\n",
            "Epoch 7/80\n",
            "2074/2074 [==============================] - 0s 114us/step - loss: 0.2305 - accuracy: 0.9147\n",
            "Epoch 8/80\n",
            "2074/2074 [==============================] - 0s 112us/step - loss: 0.2096 - accuracy: 0.9238\n",
            "Epoch 9/80\n",
            "2074/2074 [==============================] - 0s 108us/step - loss: 0.2106 - accuracy: 0.9185\n",
            "Epoch 10/80\n",
            "2074/2074 [==============================] - 0s 112us/step - loss: 0.1952 - accuracy: 0.9306\n",
            "Epoch 11/80\n",
            "2074/2074 [==============================] - 0s 112us/step - loss: 0.1855 - accuracy: 0.9325\n",
            "Epoch 12/80\n",
            "2074/2074 [==============================] - 0s 114us/step - loss: 0.1803 - accuracy: 0.9311\n",
            "Epoch 13/80\n",
            "2074/2074 [==============================] - 0s 112us/step - loss: 0.1767 - accuracy: 0.9359\n",
            "Epoch 14/80\n",
            "2074/2074 [==============================] - 0s 110us/step - loss: 0.1535 - accuracy: 0.9402\n",
            "Epoch 15/80\n",
            "2074/2074 [==============================] - 0s 114us/step - loss: 0.1413 - accuracy: 0.9508\n",
            "Epoch 16/80\n",
            "2074/2074 [==============================] - 0s 114us/step - loss: 0.1458 - accuracy: 0.9470\n",
            "Epoch 17/80\n",
            "2074/2074 [==============================] - 0s 110us/step - loss: 0.1379 - accuracy: 0.9489\n",
            "Epoch 18/80\n",
            "2074/2074 [==============================] - 0s 109us/step - loss: 0.1408 - accuracy: 0.9465\n",
            "Epoch 19/80\n",
            "2074/2074 [==============================] - 0s 112us/step - loss: 0.1336 - accuracy: 0.9537\n",
            "Epoch 20/80\n",
            "2074/2074 [==============================] - 0s 126us/step - loss: 0.1121 - accuracy: 0.9605\n",
            "Epoch 21/80\n",
            "2074/2074 [==============================] - 0s 121us/step - loss: 0.1309 - accuracy: 0.9523\n",
            "Epoch 22/80\n",
            "2074/2074 [==============================] - 0s 123us/step - loss: 0.1158 - accuracy: 0.9556\n",
            "Epoch 23/80\n",
            "2074/2074 [==============================] - 0s 117us/step - loss: 0.1144 - accuracy: 0.9595\n",
            "Epoch 24/80\n",
            "2074/2074 [==============================] - 0s 117us/step - loss: 0.1261 - accuracy: 0.9585\n",
            "Epoch 25/80\n",
            "2074/2074 [==============================] - 0s 149us/step - loss: 0.1173 - accuracy: 0.9566\n",
            "Epoch 26/80\n",
            "2074/2074 [==============================] - 0s 165us/step - loss: 0.1093 - accuracy: 0.9609\n",
            "Epoch 27/80\n",
            "2074/2074 [==============================] - 0s 151us/step - loss: 0.1135 - accuracy: 0.9658\n",
            "Epoch 28/80\n",
            "2074/2074 [==============================] - 0s 167us/step - loss: 0.0986 - accuracy: 0.9629\n",
            "Epoch 29/80\n",
            "2074/2074 [==============================] - 0s 155us/step - loss: 0.0981 - accuracy: 0.9595\n",
            "Epoch 30/80\n",
            "2074/2074 [==============================] - 0s 152us/step - loss: 0.0945 - accuracy: 0.9677\n",
            "Epoch 31/80\n",
            "2074/2074 [==============================] - 0s 135us/step - loss: 0.0855 - accuracy: 0.9682\n",
            "Epoch 32/80\n",
            "2074/2074 [==============================] - 0s 125us/step - loss: 0.1007 - accuracy: 0.9643\n",
            "Epoch 33/80\n",
            "2074/2074 [==============================] - 0s 127us/step - loss: 0.0813 - accuracy: 0.9711\n",
            "Epoch 34/80\n",
            "2074/2074 [==============================] - 0s 126us/step - loss: 0.0814 - accuracy: 0.9691\n",
            "Epoch 35/80\n",
            "2074/2074 [==============================] - 0s 139us/step - loss: 0.0954 - accuracy: 0.9677\n",
            "Epoch 36/80\n",
            "2074/2074 [==============================] - 0s 150us/step - loss: 0.0782 - accuracy: 0.9696\n",
            "Epoch 37/80\n",
            "2074/2074 [==============================] - 0s 132us/step - loss: 0.0866 - accuracy: 0.9730\n",
            "Epoch 38/80\n",
            "2074/2074 [==============================] - 0s 128us/step - loss: 0.0786 - accuracy: 0.9720\n",
            "Epoch 39/80\n",
            "2074/2074 [==============================] - 0s 154us/step - loss: 0.0662 - accuracy: 0.9773\n",
            "Epoch 40/80\n",
            "2074/2074 [==============================] - 0s 153us/step - loss: 0.0730 - accuracy: 0.9783\n",
            "Epoch 41/80\n",
            "2074/2074 [==============================] - 0s 151us/step - loss: 0.0783 - accuracy: 0.9740\n",
            "Epoch 42/80\n",
            "2074/2074 [==============================] - 0s 143us/step - loss: 0.0862 - accuracy: 0.9725\n",
            "Epoch 43/80\n",
            "2074/2074 [==============================] - ETA: 0s - loss: 0.0718 - accuracy: 0.97 - 0s 151us/step - loss: 0.0733 - accuracy: 0.9696\n",
            "Epoch 44/80\n",
            "2074/2074 [==============================] - 0s 140us/step - loss: 0.0725 - accuracy: 0.9773\n",
            "Epoch 45/80\n",
            "2074/2074 [==============================] - 0s 147us/step - loss: 0.0595 - accuracy: 0.9769\n",
            "Epoch 46/80\n",
            "2074/2074 [==============================] - 0s 170us/step - loss: 0.0556 - accuracy: 0.9817\n",
            "Epoch 47/80\n",
            "2074/2074 [==============================] - 0s 159us/step - loss: 0.0569 - accuracy: 0.9793\n",
            "Epoch 48/80\n",
            "2074/2074 [==============================] - 0s 135us/step - loss: 0.0732 - accuracy: 0.9740\n",
            "Epoch 49/80\n",
            "2074/2074 [==============================] - 0s 134us/step - loss: 0.0664 - accuracy: 0.9744\n",
            "Epoch 50/80\n",
            "2074/2074 [==============================] - 0s 124us/step - loss: 0.0499 - accuracy: 0.9846\n",
            "Epoch 51/80\n",
            "2074/2074 [==============================] - 0s 113us/step - loss: 0.0585 - accuracy: 0.9769\n",
            "Epoch 52/80\n",
            "2074/2074 [==============================] - 0s 113us/step - loss: 0.0609 - accuracy: 0.9788\n",
            "Epoch 53/80\n",
            "2074/2074 [==============================] - 0s 118us/step - loss: 0.0624 - accuracy: 0.9764\n",
            "Epoch 54/80\n",
            "2074/2074 [==============================] - 0s 118us/step - loss: 0.0552 - accuracy: 0.9812\n",
            "Epoch 55/80\n",
            "2074/2074 [==============================] - 0s 119us/step - loss: 0.0558 - accuracy: 0.9831\n",
            "Epoch 56/80\n",
            "2074/2074 [==============================] - 0s 117us/step - loss: 0.0393 - accuracy: 0.9870\n",
            "Epoch 57/80\n",
            "2074/2074 [==============================] - 0s 141us/step - loss: 0.0614 - accuracy: 0.9836\n",
            "Epoch 58/80\n",
            "2074/2074 [==============================] - 0s 138us/step - loss: 0.0516 - accuracy: 0.9817\n",
            "Epoch 59/80\n",
            "2074/2074 [==============================] - 0s 130us/step - loss: 0.0513 - accuracy: 0.9807\n",
            "Epoch 60/80\n",
            "2074/2074 [==============================] - 0s 172us/step - loss: 0.0502 - accuracy: 0.9851\n",
            "Epoch 61/80\n",
            "2074/2074 [==============================] - 0s 143us/step - loss: 0.0432 - accuracy: 0.9826\n",
            "Epoch 62/80\n",
            "2074/2074 [==============================] - 0s 124us/step - loss: 0.0558 - accuracy: 0.9807\n",
            "Epoch 63/80\n",
            "2074/2074 [==============================] - 0s 166us/step - loss: 0.0409 - accuracy: 0.98550s - loss: 0.0502 - accuracy\n",
            "Epoch 64/80\n",
            "2074/2074 [==============================] - 0s 152us/step - loss: 0.0502 - accuracy: 0.9851\n",
            "Epoch 65/80\n",
            "2074/2074 [==============================] - 0s 128us/step - loss: 0.0479 - accuracy: 0.9812\n",
            "Epoch 66/80\n",
            "2074/2074 [==============================] - 0s 120us/step - loss: 0.0416 - accuracy: 0.9826\n",
            "Epoch 67/80\n",
            "2074/2074 [==============================] - 0s 165us/step - loss: 0.0495 - accuracy: 0.9831\n",
            "Epoch 68/80\n",
            "2074/2074 [==============================] - 0s 147us/step - loss: 0.0426 - accuracy: 0.9879\n",
            "Epoch 69/80\n",
            "2074/2074 [==============================] - 0s 117us/step - loss: 0.0571 - accuracy: 0.9817\n",
            "Epoch 70/80\n",
            "2074/2074 [==============================] - 0s 110us/step - loss: 0.0324 - accuracy: 0.9908\n",
            "Epoch 71/80\n",
            "2074/2074 [==============================] - 0s 158us/step - loss: 0.0408 - accuracy: 0.9836\n",
            "Epoch 72/80\n",
            "2074/2074 [==============================] - 0s 142us/step - loss: 0.0412 - accuracy: 0.9822\n",
            "Epoch 73/80\n",
            "2074/2074 [==============================] - 0s 140us/step - loss: 0.0348 - accuracy: 0.9879\n",
            "Epoch 74/80\n",
            "2074/2074 [==============================] - 0s 136us/step - loss: 0.0392 - accuracy: 0.9894\n",
            "Epoch 75/80\n",
            "2074/2074 [==============================] - 0s 136us/step - loss: 0.0403 - accuracy: 0.9879\n",
            "Epoch 76/80\n",
            "2074/2074 [==============================] - 0s 130us/step - loss: 0.0265 - accuracy: 0.9884\n",
            "Epoch 77/80\n",
            "2074/2074 [==============================] - 0s 116us/step - loss: 0.0341 - accuracy: 0.9884\n",
            "Epoch 78/80\n",
            "2074/2074 [==============================] - 0s 116us/step - loss: 0.0490 - accuracy: 0.9826\n",
            "Epoch 79/80\n",
            "2074/2074 [==============================] - 0s 144us/step - loss: 0.0401 - accuracy: 0.9836\n",
            "Epoch 80/80\n",
            "2074/2074 [==============================] - 0s 174us/step - loss: 0.0338 - accuracy: 0.9884\n"
          ],
          "name": "stdout"
        },
        {
          "output_type": "execute_result",
          "data": {
            "text/plain": [
              "<keras.callbacks.callbacks.History at 0x1b122bdb5c0>"
            ]
          },
          "metadata": {
            "tags": []
          },
          "execution_count": 28
        }
      ]
    },
    {
      "cell_type": "code",
      "metadata": {
        "id": "k9nLSGkcCH6Y",
        "outputId": "baeb4c8c-f168-4ce0-af20-264d4102f2ab"
      },
      "source": [
        "model_6.evaluate(X_test, Y_test)[1]"
      ],
      "execution_count": null,
      "outputs": [
        {
          "output_type": "stream",
          "text": [
            "889/889 [==============================] - 0s 111us/step\n"
          ],
          "name": "stdout"
        },
        {
          "output_type": "execute_result",
          "data": {
            "text/plain": [
              "0.974128246307373"
            ]
          },
          "metadata": {
            "tags": []
          },
          "execution_count": 29
        }
      ]
    },
    {
      "cell_type": "code",
      "metadata": {
        "id": "xGMium5ACH6Y",
        "outputId": "ea63221e-140f-459a-99bf-13239b7858b3"
      },
      "source": [
        "model_6.summary()"
      ],
      "execution_count": null,
      "outputs": [
        {
          "output_type": "stream",
          "text": [
            "Model: \"sequential_1\"\n",
            "_________________________________________________________________\n",
            "Layer (type)                 Output Shape              Param #   \n",
            "=================================================================\n",
            "dense_1 (Dense)              (None, 100)               2900      \n",
            "_________________________________________________________________\n",
            "dropout_1 (Dropout)          (None, 100)               0         \n",
            "_________________________________________________________________\n",
            "dense_2 (Dense)              (None, 100)               10100     \n",
            "_________________________________________________________________\n",
            "dropout_2 (Dropout)          (None, 100)               0         \n",
            "_________________________________________________________________\n",
            "dense_3 (Dense)              (None, 100)               10100     \n",
            "_________________________________________________________________\n",
            "dropout_3 (Dropout)          (None, 100)               0         \n",
            "_________________________________________________________________\n",
            "dense_4 (Dense)              (None, 100)               10100     \n",
            "_________________________________________________________________\n",
            "dropout_4 (Dropout)          (None, 100)               0         \n",
            "_________________________________________________________________\n",
            "dense_5 (Dense)              (None, 100)               10100     \n",
            "_________________________________________________________________\n",
            "dropout_5 (Dropout)          (None, 100)               0         \n",
            "_________________________________________________________________\n",
            "dense_6 (Dense)              (None, 100)               10100     \n",
            "_________________________________________________________________\n",
            "dropout_6 (Dropout)          (None, 100)               0         \n",
            "_________________________________________________________________\n",
            "dense_7 (Dense)              (None, 1)                 101       \n",
            "=================================================================\n",
            "Total params: 53,501\n",
            "Trainable params: 53,501\n",
            "Non-trainable params: 0\n",
            "_________________________________________________________________\n"
          ],
          "name": "stdout"
        }
      ]
    },
    {
      "cell_type": "code",
      "metadata": {
        "id": "JSs8Tu0bCH6Z"
      },
      "source": [
        "#Testing class\n",
        "y_pred = model_6.predict_classes(X_test)\n",
        "#Training class\n",
        "Y_pred = model_6.predict_classes(X_train)"
      ],
      "execution_count": null,
      "outputs": []
    },
    {
      "cell_type": "code",
      "metadata": {
        "id": "uKiKB7iqCH6Z",
        "outputId": "ece6df7b-e2b6-481f-d5b1-56f7f637ec34"
      },
      "source": [
        "from sklearn.metrics import confusion_matrix, precision_score, recall_score, f1_score, cohen_kappa_score\n",
        "from sklearn.metrics import log_loss\n",
        "# Confusion Matrix -- Testing Class\n",
        "confusion_matrix(Y_test, y_pred)"
      ],
      "execution_count": null,
      "outputs": [
        {
          "output_type": "execute_result",
          "data": {
            "text/plain": [
              "array([[374,  21],\n",
              "       [  2, 492]], dtype=int64)"
            ]
          },
          "metadata": {
            "tags": []
          },
          "execution_count": 32
        }
      ]
    },
    {
      "cell_type": "code",
      "metadata": {
        "id": "N-hwJ8agCH6Z",
        "outputId": "4de20004-e479-4dd7-f379-a29743c79914"
      },
      "source": [
        "# Confusion matrix -- training class\n",
        "confusion_matrix(Y_train, Y_pred)"
      ],
      "execution_count": null,
      "outputs": [
        {
          "output_type": "execute_result",
          "data": {
            "text/plain": [
              "array([[ 951,    0],\n",
              "       [   0, 1123]], dtype=int64)"
            ]
          },
          "metadata": {
            "tags": []
          },
          "execution_count": 33
        }
      ]
    },
    {
      "cell_type": "code",
      "metadata": {
        "id": "L-AtCcxNCH6a",
        "outputId": "a86643f6-5c96-4296-b138-cd722044c0ed"
      },
      "source": [
        "print(\"Testing Class Evaluation Metrics\\n\")\n",
        "print(\"Testing Precision Score = \",precision_score(Y_test, y_pred))\n",
        "print(\"Testing Recall Score = \",recall_score(Y_test, y_pred))\n",
        "print(\"Testing F1 Score = \",f1_score(Y_test, y_pred))\n",
        "print(\"Testing Cohen Kappa Score = \",cohen_kappa_score(Y_test, y_pred))\n",
        "print(\"Testing Loss = \",log_loss(Y_test, y_pred))"
      ],
      "execution_count": null,
      "outputs": [
        {
          "output_type": "stream",
          "text": [
            "Testing Class Evaluation Metrics\n",
            "\n",
            "Testing Precision Score =  0.9590643274853801\n",
            "Testing Recall Score =  0.9959514170040485\n",
            "Testing F1 Score =  0.9771598808341607\n",
            "Testing Cohen Kappa Score =  0.9473529722255838\n",
            "Testing Loss =  0.8935980299538591\n"
          ],
          "name": "stdout"
        }
      ]
    },
    {
      "cell_type": "code",
      "metadata": {
        "id": "O9Is6UbsCH6a",
        "outputId": "5b8cde54-428a-4de6-c098-4d6ec3895f7a"
      },
      "source": [
        "print(\"Training Class Evaluation Metrics\\n\")\n",
        "print(\"Training Precision Score = \",precision_score(Y_train, Y_pred))\n",
        "print(\"Training Recall Score = \",recall_score(Y_train, Y_pred))\n",
        "print(\"Training F1 Score = \",f1_score(Y_train, Y_pred))\n",
        "print(\"Training Cohen Kappa Score = \",cohen_kappa_score(Y_train, Y_pred))\n",
        "print(\"Training Loss = \",log_loss(Y_train, Y_pred))"
      ],
      "execution_count": null,
      "outputs": [
        {
          "output_type": "stream",
          "text": [
            "Training Class Evaluation Metrics\n",
            "\n",
            "Training Precision Score =  1.0\n",
            "Training Recall Score =  1.0\n",
            "Training F1 Score =  1.0\n",
            "Training Cohen Kappa Score =  1.0\n",
            "Training Loss =  9.992007221626413e-16\n"
          ],
          "name": "stdout"
        }
      ]
    },
    {
      "cell_type": "code",
      "metadata": {
        "id": "fY3fZ7F_CH6a",
        "outputId": "9847f08f-4334-4b81-9f65-8d60c68a86e2"
      },
      "source": [
        "model_6.evaluate(X_train, Y_train)[1]"
      ],
      "execution_count": null,
      "outputs": [
        {
          "output_type": "stream",
          "text": [
            "2074/2074 [==============================] - 0s 29us/step\n"
          ],
          "name": "stdout"
        },
        {
          "output_type": "execute_result",
          "data": {
            "text/plain": [
              "1.0"
            ]
          },
          "metadata": {
            "tags": []
          },
          "execution_count": 36
        }
      ]
    },
    {
      "cell_type": "markdown",
      "metadata": {
        "id": "jA1eirZsCH6b"
      },
      "source": [
        "# ANN with Relu and He Normal"
      ]
    },
    {
      "cell_type": "code",
      "metadata": {
        "id": "Y1lqkqCECH6b",
        "outputId": "28267ed9-e0d9-42a5-dad0-23b8f3d7f0ef"
      },
      "source": [
        "from keras.models import Sequential\n",
        "from keras.layers import Dense\n",
        "from keras.initializers import he_normal\n",
        "from keras.layers import Dropout\n",
        "initializer = he_normal()\n",
        "model_6 = Sequential([\n",
        "    Dense(100, input_shape=(28,),kernel_initializer=initializer),\n",
        "    Dropout(0.2),\n",
        "    Dense(100, activation='relu',kernel_initializer=initializer),\n",
        "    Dropout(0.2),\n",
        "    Dense(1, activation='sigmoid',kernel_initializer=initializer),\n",
        "])"
      ],
      "execution_count": null,
      "outputs": [
        {
          "output_type": "stream",
          "text": [
            "Using TensorFlow backend.\n"
          ],
          "name": "stderr"
        }
      ]
    },
    {
      "cell_type": "code",
      "metadata": {
        "id": "J5w2uc1NCH6d"
      },
      "source": [
        "model_6.compile(optimizer='adam',\n",
        "              loss='binary_crossentropy',\n",
        "              metrics=['accuracy'])"
      ],
      "execution_count": null,
      "outputs": []
    },
    {
      "cell_type": "code",
      "metadata": {
        "id": "z10mFNCJCH6d",
        "outputId": "2bdbd711-d789-4b3f-c1b7-c2dc2927354d"
      },
      "source": [
        "model_6.fit(X_train, Y_train,\n",
        "          batch_size=32, epochs=20)"
      ],
      "execution_count": null,
      "outputs": [
        {
          "output_type": "stream",
          "text": [
            "Epoch 1/20\n",
            "2074/2074 [==============================] - 0s 50us/step - loss: 0.0195 - accuracy: 0.9918\n",
            "Epoch 2/20\n",
            "2074/2074 [==============================] - 0s 58us/step - loss: 0.0155 - accuracy: 0.9947\n",
            "Epoch 3/20\n",
            "2074/2074 [==============================] - 0s 57us/step - loss: 0.0179 - accuracy: 0.9947\n",
            "Epoch 4/20\n",
            "2074/2074 [==============================] - 0s 68us/step - loss: 0.0181 - accuracy: 0.9923\n",
            "Epoch 5/20\n",
            "2074/2074 [==============================] - 0s 64us/step - loss: 0.0203 - accuracy: 0.9928\n",
            "Epoch 6/20\n",
            "2074/2074 [==============================] - 0s 68us/step - loss: 0.0210 - accuracy: 0.9923\n",
            "Epoch 7/20\n",
            "2074/2074 [==============================] - 0s 64us/step - loss: 0.0111 - accuracy: 0.9966\n",
            "Epoch 8/20\n",
            "2074/2074 [==============================] - 0s 64us/step - loss: 0.0174 - accuracy: 0.9942\n",
            "Epoch 9/20\n",
            "2074/2074 [==============================] - 0s 60us/step - loss: 0.0132 - accuracy: 0.9961\n",
            "Epoch 10/20\n",
            "2074/2074 [==============================] - 0s 65us/step - loss: 0.0188 - accuracy: 0.9918\n",
            "Epoch 11/20\n",
            "2074/2074 [==============================] - 0s 66us/step - loss: 0.0212 - accuracy: 0.9932\n",
            "Epoch 12/20\n",
            "2074/2074 [==============================] - 0s 62us/step - loss: 0.0258 - accuracy: 0.9908\n",
            "Epoch 13/20\n",
            "2074/2074 [==============================] - 0s 66us/step - loss: 0.0262 - accuracy: 0.9923\n",
            "Epoch 14/20\n",
            "2074/2074 [==============================] - 0s 66us/step - loss: 0.0243 - accuracy: 0.9932\n",
            "Epoch 15/20\n",
            "2074/2074 [==============================] - 0s 69us/step - loss: 0.0211 - accuracy: 0.9918\n",
            "Epoch 16/20\n",
            "2074/2074 [==============================] - 0s 69us/step - loss: 0.0151 - accuracy: 0.9966\n",
            "Epoch 17/20\n",
            "2074/2074 [==============================] - 0s 69us/step - loss: 0.0172 - accuracy: 0.9952\n",
            "Epoch 18/20\n",
            "2074/2074 [==============================] - 0s 69us/step - loss: 0.0187 - accuracy: 0.9937\n",
            "Epoch 19/20\n",
            "2074/2074 [==============================] - 0s 69us/step - loss: 0.0135 - accuracy: 0.9952\n",
            "Epoch 20/20\n",
            "2074/2074 [==============================] - 0s 66us/step - loss: 0.0154 - accuracy: 0.9942\n"
          ],
          "name": "stdout"
        },
        {
          "output_type": "execute_result",
          "data": {
            "text/plain": [
              "<keras.callbacks.callbacks.History at 0x1200ba18c88>"
            ]
          },
          "metadata": {
            "tags": []
          },
          "execution_count": 34
        }
      ]
    },
    {
      "cell_type": "code",
      "metadata": {
        "id": "812Mjr_tCH6e",
        "outputId": "86db0ad9-2278-4025-cd05-9ccc09f3d044"
      },
      "source": [
        "model_6.evaluate(X_test, Y_test)[1]"
      ],
      "execution_count": null,
      "outputs": [
        {
          "output_type": "stream",
          "text": [
            "889/889 [==============================] - 0s 27us/step\n"
          ],
          "name": "stdout"
        },
        {
          "output_type": "execute_result",
          "data": {
            "text/plain": [
              "0.9752531051635742"
            ]
          },
          "metadata": {
            "tags": []
          },
          "execution_count": 35
        }
      ]
    },
    {
      "cell_type": "markdown",
      "metadata": {
        "id": "YT5HFzmOCH6e"
      },
      "source": [
        "# Leaky Relu with He Normal and Dropout"
      ]
    },
    {
      "cell_type": "code",
      "metadata": {
        "id": "0rNCBSrgCH6f",
        "outputId": "508de36f-d1f1-4e39-e7e1-437599f0d438"
      },
      "source": [
        "from keras.models import Sequential\n",
        "from keras.layers import Dense\n",
        "from keras.initializers import he_normal\n",
        "from keras.layers import Dropout\n",
        "from keras.layers.advanced_activations import LeakyReLU, PReLU\n",
        "initializer = he_normal()\n",
        "leaky_relu = LeakyReLU(alpha=0.01)\n",
        "model_7= Sequential([\n",
        "    Dense(100, input_shape=(28,),kernel_initializer=initializer),\n",
        "    Dropout(0.2),\n",
        "    Dense(100, activation=leaky_relu,kernel_initializer=initializer),\n",
        "    Dropout(0.2),\n",
        "    Dense(100, activation=leaky_relu,kernel_initializer=initializer),\n",
        "    Dropout(0.2),\n",
        "    Dense(100, activation=leaky_relu,kernel_initializer=initializer),\n",
        "    Dropout(0.2),\n",
        "    Dense(100, activation=leaky_relu,kernel_initializer=initializer),\n",
        "    Dropout(0.2),\n",
        "    Dense(100, activation=leaky_relu,kernel_initializer=initializer),\n",
        "    Dropout(0.2),\n",
        "    Dense(1, activation='sigmoid',kernel_initializer=initializer),\n",
        "])"
      ],
      "execution_count": null,
      "outputs": [
        {
          "output_type": "stream",
          "text": [
            "Using TensorFlow backend.\n"
          ],
          "name": "stderr"
        }
      ]
    },
    {
      "cell_type": "code",
      "metadata": {
        "id": "4cbURO33CH6f"
      },
      "source": [
        "model_7.compile(optimizer='adam',\n",
        "              loss='binary_crossentropy',\n",
        "              metrics=['accuracy'])"
      ],
      "execution_count": null,
      "outputs": []
    },
    {
      "cell_type": "code",
      "metadata": {
        "id": "7Bwy1HhVCH6g",
        "outputId": "513a11f6-0d55-4562-954e-42b86ad42fea"
      },
      "source": [
        "model_7.fit(X_train, Y_train,\n",
        "          batch_size=32, epochs=14)"
      ],
      "execution_count": null,
      "outputs": [
        {
          "output_type": "stream",
          "text": [
            "Epoch 1/14\n",
            "2074/2074 [==============================] - 0s 104us/step - loss: 0.0242 - accuracy: 0.9947\n",
            "Epoch 2/14\n",
            "2074/2074 [==============================] - 0s 102us/step - loss: 0.0229 - accuracy: 0.9937\n",
            "Epoch 3/14\n",
            "2074/2074 [==============================] - 0s 91us/step - loss: 0.0202 - accuracy: 0.9942\n",
            "Epoch 4/14\n",
            "2074/2074 [==============================] - 0s 91us/step - loss: 0.0069 - accuracy: 0.9981\n",
            "Epoch 5/14\n",
            "2074/2074 [==============================] - 0s 96us/step - loss: 0.0164 - accuracy: 0.9942\n",
            "Epoch 6/14\n",
            "2074/2074 [==============================] - 0s 103us/step - loss: 0.0208 - accuracy: 0.9918\n",
            "Epoch 7/14\n",
            "2074/2074 [==============================] - 0s 97us/step - loss: 0.0173 - accuracy: 0.9947\n",
            "Epoch 8/14\n",
            "2074/2074 [==============================] - 0s 94us/step - loss: 0.0157 - accuracy: 0.9947\n",
            "Epoch 9/14\n",
            "2074/2074 [==============================] - 0s 95us/step - loss: 0.0156 - accuracy: 0.9952\n",
            "Epoch 10/14\n",
            "2074/2074 [==============================] - 0s 96us/step - loss: 0.0176 - accuracy: 0.9947\n",
            "Epoch 11/14\n",
            "2074/2074 [==============================] - 0s 100us/step - loss: 0.0241 - accuracy: 0.9899\n",
            "Epoch 12/14\n",
            "2074/2074 [==============================] - 0s 100us/step - loss: 0.0226 - accuracy: 0.9928\n",
            "Epoch 13/14\n",
            "2074/2074 [==============================] - 0s 100us/step - loss: 0.0180 - accuracy: 0.9947\n",
            "Epoch 14/14\n",
            "2074/2074 [==============================] - 0s 107us/step - loss: 0.0147 - accuracy: 0.9961\n"
          ],
          "name": "stdout"
        },
        {
          "output_type": "execute_result",
          "data": {
            "text/plain": [
              "<keras.callbacks.callbacks.History at 0x231440d0a58>"
            ]
          },
          "metadata": {
            "tags": []
          },
          "execution_count": 37
        }
      ]
    },
    {
      "cell_type": "code",
      "metadata": {
        "id": "YeM8Qc2NCH6g",
        "outputId": "e01fc8d7-d9b3-476a-d2bb-480a0c4caf26"
      },
      "source": [
        "model_7.evaluate(X_test, Y_test)[1]"
      ],
      "execution_count": null,
      "outputs": [
        {
          "output_type": "stream",
          "text": [
            "889/889 [==============================] - 0s 36us/step\n"
          ],
          "name": "stdout"
        },
        {
          "output_type": "execute_result",
          "data": {
            "text/plain": [
              "0.9820022583007812"
            ]
          },
          "metadata": {
            "tags": []
          },
          "execution_count": 38
        }
      ]
    },
    {
      "cell_type": "markdown",
      "metadata": {
        "id": "LaHQp-Y_CH6j"
      },
      "source": [
        "# ANN with Leaky Relu and He Normal"
      ]
    },
    {
      "cell_type": "code",
      "metadata": {
        "id": "b6bYrM70CH6l",
        "outputId": "8b1dc9db-07e2-47ef-c8e3-1ef3d046b77f"
      },
      "source": [
        "from keras.models import Sequential\n",
        "from keras.layers import Dense\n",
        "from keras.initializers import he_normal\n",
        "from keras.layers import Dropout\n",
        "from keras.layers.advanced_activations import LeakyReLU, PReLU\n",
        "initializer = he_normal()\n",
        "leaky_relu = LeakyReLU(alpha=0.01)\n",
        "model_7= Sequential([\n",
        "    Dense(100, input_shape=(28,),kernel_initializer=initializer),\n",
        "    Dropout(0.2),\n",
        "    Dense(100, activation=leaky_relu,kernel_initializer=initializer),\n",
        "    Dropout(0.2),\n",
        "    Dense(1, activation='sigmoid',kernel_initializer=initializer),\n",
        "])"
      ],
      "execution_count": null,
      "outputs": [
        {
          "output_type": "stream",
          "text": [
            "Using TensorFlow backend.\n"
          ],
          "name": "stderr"
        }
      ]
    },
    {
      "cell_type": "code",
      "metadata": {
        "id": "_IeAUw2qCH6l"
      },
      "source": [
        "model_7.compile(optimizer='adam',\n",
        "              loss='binary_crossentropy',\n",
        "              metrics=['accuracy'])"
      ],
      "execution_count": null,
      "outputs": []
    },
    {
      "cell_type": "code",
      "metadata": {
        "id": "23CPhEJ8CH6l",
        "outputId": "7a8d8fed-f419-44dd-b019-3c461718ee15"
      },
      "source": [
        "model_7.fit(X_train, Y_train,\n",
        "          batch_size=32, epochs=80)"
      ],
      "execution_count": null,
      "outputs": [
        {
          "output_type": "stream",
          "text": [
            "Epoch 1/80\n",
            "2074/2074 [==============================] - 2s 793us/step - loss: 0.6007 - accuracy: 0.7681\n",
            "Epoch 2/80\n",
            "2074/2074 [==============================] - 0s 62us/step - loss: 0.2741 - accuracy: 0.8848\n",
            "Epoch 3/80\n",
            "2074/2074 [==============================] - 0s 46us/step - loss: 0.2363 - accuracy: 0.9036\n",
            "Epoch 4/80\n",
            "2074/2074 [==============================] - 0s 43us/step - loss: 0.2195 - accuracy: 0.9122\n",
            "Epoch 5/80\n",
            "2074/2074 [==============================] - 0s 48us/step - loss: 0.2050 - accuracy: 0.9229\n",
            "Epoch 6/80\n",
            "2074/2074 [==============================] - 0s 54us/step - loss: 0.1724 - accuracy: 0.9296\n",
            "Epoch 7/80\n",
            "2074/2074 [==============================] - 0s 66us/step - loss: 0.1757 - accuracy: 0.9320\n",
            "Epoch 8/80\n",
            "2074/2074 [==============================] - 0s 58us/step - loss: 0.1644 - accuracy: 0.9354\n",
            "Epoch 9/80\n",
            "2074/2074 [==============================] - 0s 77us/step - loss: 0.1462 - accuracy: 0.9465\n",
            "Epoch 10/80\n",
            "2074/2074 [==============================] - 0s 51us/step - loss: 0.1397 - accuracy: 0.9450\n",
            "Epoch 11/80\n",
            "2074/2074 [==============================] - 0s 58us/step - loss: 0.1414 - accuracy: 0.9455\n",
            "Epoch 12/80\n",
            "2074/2074 [==============================] - 0s 54us/step - loss: 0.1279 - accuracy: 0.9489\n",
            "Epoch 13/80\n",
            "2074/2074 [==============================] - 0s 58us/step - loss: 0.1308 - accuracy: 0.9508\n",
            "Epoch 14/80\n",
            "2074/2074 [==============================] - 0s 62us/step - loss: 0.1340 - accuracy: 0.9474\n",
            "Epoch 15/80\n",
            "2074/2074 [==============================] - 0s 66us/step - loss: 0.1131 - accuracy: 0.9556\n",
            "Epoch 16/80\n",
            "2074/2074 [==============================] - 0s 54us/step - loss: 0.1049 - accuracy: 0.9605\n",
            "Epoch 17/80\n",
            "2074/2074 [==============================] - 0s 62us/step - loss: 0.1038 - accuracy: 0.9576\n",
            "Epoch 18/80\n",
            "2074/2074 [==============================] - 0s 62us/step - loss: 0.1190 - accuracy: 0.9566\n",
            "Epoch 19/80\n",
            "2074/2074 [==============================] - 0s 62us/step - loss: 0.1093 - accuracy: 0.9609\n",
            "Epoch 20/80\n",
            "2074/2074 [==============================] - 0s 62us/step - loss: 0.0992 - accuracy: 0.9634\n",
            "Epoch 21/80\n",
            "2074/2074 [==============================] - 0s 58us/step - loss: 0.0908 - accuracy: 0.9677\n",
            "Epoch 22/80\n",
            "2074/2074 [==============================] - 0s 66us/step - loss: 0.1050 - accuracy: 0.9585\n",
            "Epoch 23/80\n",
            "2074/2074 [==============================] - 0s 69us/step - loss: 0.0825 - accuracy: 0.9720\n",
            "Epoch 24/80\n",
            "2074/2074 [==============================] - 0s 54us/step - loss: 0.1001 - accuracy: 0.9662\n",
            "Epoch 25/80\n",
            "2074/2074 [==============================] - 0s 56us/step - loss: 0.0911 - accuracy: 0.9682\n",
            "Epoch 26/80\n",
            "2074/2074 [==============================] - 0s 58us/step - loss: 0.0840 - accuracy: 0.9658\n",
            "Epoch 27/80\n",
            "2074/2074 [==============================] - 0s 63us/step - loss: 0.0905 - accuracy: 0.9662\n",
            "Epoch 28/80\n",
            "2074/2074 [==============================] - 0s 61us/step - loss: 0.0837 - accuracy: 0.9706\n",
            "Epoch 29/80\n",
            "2074/2074 [==============================] - 0s 62us/step - loss: 0.0707 - accuracy: 0.9749\n",
            "Epoch 30/80\n",
            "2074/2074 [==============================] - 0s 62us/step - loss: 0.0744 - accuracy: 0.9711\n",
            "Epoch 31/80\n",
            "2074/2074 [==============================] - 0s 58us/step - loss: 0.0678 - accuracy: 0.9754\n",
            "Epoch 32/80\n",
            "2074/2074 [==============================] - 0s 62us/step - loss: 0.0691 - accuracy: 0.9735\n",
            "Epoch 33/80\n",
            "2074/2074 [==============================] - 0s 57us/step - loss: 0.0753 - accuracy: 0.9716\n",
            "Epoch 34/80\n",
            "2074/2074 [==============================] - 0s 55us/step - loss: 0.0676 - accuracy: 0.9759\n",
            "Epoch 35/80\n",
            "2074/2074 [==============================] - 0s 69us/step - loss: 0.0661 - accuracy: 0.9754\n",
            "Epoch 36/80\n",
            "2074/2074 [==============================] - 0s 69us/step - loss: 0.0732 - accuracy: 0.9735\n",
            "Epoch 37/80\n",
            "2074/2074 [==============================] - 0s 69us/step - loss: 0.0648 - accuracy: 0.9749\n",
            "Epoch 38/80\n",
            "2074/2074 [==============================] - 0s 69us/step - loss: 0.0675 - accuracy: 0.9740\n",
            "Epoch 39/80\n",
            "2074/2074 [==============================] - 0s 66us/step - loss: 0.0708 - accuracy: 0.9711\n",
            "Epoch 40/80\n",
            "2074/2074 [==============================] - 0s 65us/step - loss: 0.0696 - accuracy: 0.9754\n",
            "Epoch 41/80\n",
            "2074/2074 [==============================] - 0s 62us/step - loss: 0.0495 - accuracy: 0.9826\n",
            "Epoch 42/80\n",
            "2074/2074 [==============================] - 0s 73us/step - loss: 0.0563 - accuracy: 0.9769\n",
            "Epoch 43/80\n",
            "2074/2074 [==============================] - 0s 73us/step - loss: 0.0599 - accuracy: 0.9769\n",
            "Epoch 44/80\n",
            "2074/2074 [==============================] - 0s 62us/step - loss: 0.0634 - accuracy: 0.9783\n",
            "Epoch 45/80\n",
            "2074/2074 [==============================] - 0s 66us/step - loss: 0.0676 - accuracy: 0.9730\n",
            "Epoch 46/80\n",
            "2074/2074 [==============================] - 0s 73us/step - loss: 0.0542 - accuracy: 0.9822\n",
            "Epoch 47/80\n",
            "2074/2074 [==============================] - 0s 69us/step - loss: 0.0558 - accuracy: 0.9822\n",
            "Epoch 48/80\n",
            "2074/2074 [==============================] - 0s 73us/step - loss: 0.0484 - accuracy: 0.9802\n",
            "Epoch 49/80\n",
            "2074/2074 [==============================] - 0s 69us/step - loss: 0.0501 - accuracy: 0.9807\n",
            "Epoch 50/80\n",
            "2074/2074 [==============================] - 0s 62us/step - loss: 0.0504 - accuracy: 0.9807\n",
            "Epoch 51/80\n",
            "2074/2074 [==============================] - 0s 66us/step - loss: 0.0574 - accuracy: 0.9812\n",
            "Epoch 52/80\n",
            "2074/2074 [==============================] - 0s 54us/step - loss: 0.0473 - accuracy: 0.9826\n",
            "Epoch 53/80\n",
            "2074/2074 [==============================] - 0s 62us/step - loss: 0.0512 - accuracy: 0.9836\n",
            "Epoch 54/80\n",
            "2074/2074 [==============================] - 0s 62us/step - loss: 0.0422 - accuracy: 0.9870\n",
            "Epoch 55/80\n",
            "2074/2074 [==============================] - 0s 66us/step - loss: 0.0539 - accuracy: 0.9817\n",
            "Epoch 56/80\n",
            "2074/2074 [==============================] - 0s 66us/step - loss: 0.0431 - accuracy: 0.9841\n",
            "Epoch 57/80\n",
            "2074/2074 [==============================] - 0s 62us/step - loss: 0.0485 - accuracy: 0.9812\n",
            "Epoch 58/80\n",
            "2074/2074 [==============================] - 0s 62us/step - loss: 0.0479 - accuracy: 0.9826\n",
            "Epoch 59/80\n",
            "2074/2074 [==============================] - 0s 54us/step - loss: 0.0433 - accuracy: 0.9822\n",
            "Epoch 60/80\n",
            "2074/2074 [==============================] - 0s 62us/step - loss: 0.0330 - accuracy: 0.9889\n",
            "Epoch 61/80\n",
            "2074/2074 [==============================] - 0s 66us/step - loss: 0.0486 - accuracy: 0.9812\n",
            "Epoch 62/80\n",
            "2074/2074 [==============================] - 0s 73us/step - loss: 0.0416 - accuracy: 0.9836\n",
            "Epoch 63/80\n",
            "2074/2074 [==============================] - 0s 69us/step - loss: 0.0438 - accuracy: 0.9855\n",
            "Epoch 64/80\n",
            "2074/2074 [==============================] - 0s 58us/step - loss: 0.0431 - accuracy: 0.9822\n",
            "Epoch 65/80\n",
            "2074/2074 [==============================] - 0s 58us/step - loss: 0.0317 - accuracy: 0.9894\n",
            "Epoch 66/80\n",
            "2074/2074 [==============================] - 0s 58us/step - loss: 0.0368 - accuracy: 0.9870\n",
            "Epoch 67/80\n",
            "2074/2074 [==============================] - 0s 50us/step - loss: 0.0426 - accuracy: 0.9826\n",
            "Epoch 68/80\n",
            "2074/2074 [==============================] - 0s 54us/step - loss: 0.0393 - accuracy: 0.9875\n",
            "Epoch 69/80\n",
            "2074/2074 [==============================] - 0s 50us/step - loss: 0.0418 - accuracy: 0.9860\n",
            "Epoch 70/80\n",
            "2074/2074 [==============================] - 0s 50us/step - loss: 0.0412 - accuracy: 0.9851\n",
            "Epoch 71/80\n",
            "2074/2074 [==============================] - 0s 54us/step - loss: 0.0330 - accuracy: 0.9913\n",
            "Epoch 72/80\n",
            "2074/2074 [==============================] - 0s 54us/step - loss: 0.0335 - accuracy: 0.9865\n",
            "Epoch 73/80\n",
            "2074/2074 [==============================] - 0s 50us/step - loss: 0.0352 - accuracy: 0.9875\n",
            "Epoch 74/80\n",
            "2074/2074 [==============================] - 0s 50us/step - loss: 0.0337 - accuracy: 0.9894\n",
            "Epoch 75/80\n",
            "2074/2074 [==============================] - 0s 50us/step - loss: 0.0320 - accuracy: 0.9889\n",
            "Epoch 76/80\n",
            "2074/2074 [==============================] - 0s 50us/step - loss: 0.0334 - accuracy: 0.9889\n",
            "Epoch 77/80\n",
            "2074/2074 [==============================] - 0s 58us/step - loss: 0.0290 - accuracy: 0.9894\n",
            "Epoch 78/80\n",
            "2074/2074 [==============================] - 0s 54us/step - loss: 0.0350 - accuracy: 0.9904\n",
            "Epoch 79/80\n"
          ],
          "name": "stdout"
        },
        {
          "output_type": "stream",
          "text": [
            "2074/2074 [==============================] - 0s 54us/step - loss: 0.0383 - accuracy: 0.9879\n",
            "Epoch 80/80\n",
            "2074/2074 [==============================] - 0s 50us/step - loss: 0.0338 - accuracy: 0.9908\n"
          ],
          "name": "stdout"
        },
        {
          "output_type": "execute_result",
          "data": {
            "text/plain": [
              "<keras.callbacks.callbacks.History at 0x2658d45cd30>"
            ]
          },
          "metadata": {
            "tags": []
          },
          "execution_count": 28
        }
      ]
    },
    {
      "cell_type": "code",
      "metadata": {
        "id": "HL0znkcmCH6m",
        "outputId": "f751aa06-417d-428f-fc5e-4fa542f51450"
      },
      "source": [
        "model_7.evaluate(X_test, Y_test)[1]"
      ],
      "execution_count": null,
      "outputs": [
        {
          "output_type": "stream",
          "text": [
            "889/889 [==============================] - 0s 88us/step\n"
          ],
          "name": "stdout"
        },
        {
          "output_type": "execute_result",
          "data": {
            "text/plain": [
              "0.9718785285949707"
            ]
          },
          "metadata": {
            "tags": []
          },
          "execution_count": 29
        }
      ]
    },
    {
      "cell_type": "code",
      "metadata": {
        "id": "q3DXjWlqCH6n"
      },
      "source": [
        "#Testing class\n",
        "y_pred = model_7.predict_classes(X_test)\n",
        "#Training class\n",
        "Y_pred = model_7.predict_classes(X_train)"
      ],
      "execution_count": null,
      "outputs": []
    },
    {
      "cell_type": "code",
      "metadata": {
        "id": "ay1cBqFGCH6n",
        "outputId": "b4d7cf3e-3e7a-469c-8665-2601cccb8516"
      },
      "source": [
        "from sklearn.metrics import confusion_matrix, precision_score, recall_score, f1_score, cohen_kappa_score\n",
        "from sklearn.metrics import log_loss\n",
        "# Confusion Matrix -- Testing Class\n",
        "confusion_matrix(Y_test, y_pred)"
      ],
      "execution_count": null,
      "outputs": [
        {
          "output_type": "execute_result",
          "data": {
            "text/plain": [
              "array([[383,  17],\n",
              "       [  8, 481]], dtype=int64)"
            ]
          },
          "metadata": {
            "tags": []
          },
          "execution_count": 31
        }
      ]
    },
    {
      "cell_type": "code",
      "metadata": {
        "id": "vsMQfqRXCH6n",
        "outputId": "ba6650ce-e85d-4d8a-b6fe-53e9d9c9e47e"
      },
      "source": [
        "from sklearn.metrics import confusion_matrix\n",
        "from matplotlib import pyplot as plt\n",
        "\n",
        "conf_mat = confusion_matrix(y_true=Y_test, y_pred=y_pred)\n",
        "print('Confusion matrix:\\n', conf_mat)\n",
        "\n",
        "labels = ['Class 0', 'Class 1']\n",
        "fig = plt.figure()\n",
        "ax = fig.add_subplot(111)\n",
        "cax = ax.matshow(conf_mat, cmap=plt.cm.Blues)\n",
        "fig.colorbar(cax)\n",
        "ax.set_xticklabels([''] + labels)\n",
        "ax.set_yticklabels([''] + labels)\n",
        "plt.xlabel('Predicted')\n",
        "plt.ylabel('Expected')\n",
        "plt.show()"
      ],
      "execution_count": null,
      "outputs": [
        {
          "output_type": "stream",
          "text": [
            "Confusion matrix:\n",
            " [[383  17]\n",
            " [  8 481]]\n"
          ],
          "name": "stdout"
        },
        {
          "output_type": "display_data",
          "data": {
            "image/png": "[encoded data removed]",
            "text/plain": [
              "<matplotlib.figure.Figure at 0x265900b4e10>"
            ]
          },
          "metadata": {
            "tags": []
          }
        }
      ]
    },
    {
      "cell_type": "markdown",
      "metadata": {
        "id": "Bf5gNvS5CH6o"
      },
      "source": [
        "# Xavier Normal Initialization with Leaky Relu and Sigmoid including Dropout"
      ]
    },
    {
      "cell_type": "code",
      "metadata": {
        "id": "6-J1R_xNCH6o",
        "outputId": "5939d054-baa1-4710-a8e7-07f3df2658b1"
      },
      "source": [
        "from keras.models import Sequential\n",
        "from keras.layers import Dense\n",
        "from keras.initializers import glorot_normal\n",
        "from keras.layers import Dropout\n",
        "from keras.layers.advanced_activations import LeakyReLU, PReLU\n",
        "initializer = glorot_normal()\n",
        "leaky_relu = LeakyReLU(alpha=0.01)\n",
        "model_7= Sequential([\n",
        "    Dense(100, input_shape=(28,),kernel_initializer=initializer),\n",
        "    Dropout(0.2),\n",
        "    Dense(100, activation=leaky_relu,kernel_initializer=initializer),\n",
        "    Dropout(0.2),\n",
        "    Dense(100, activation=leaky_relu,kernel_initializer=initializer),\n",
        "    Dropout(0.2),\n",
        "    Dense(100, activation=leaky_relu,kernel_initializer=initializer),\n",
        "    Dropout(0.2),\n",
        "    Dense(100, activation=leaky_relu,kernel_initializer=initializer),\n",
        "    Dropout(0.2),\n",
        "    Dense(100, activation=leaky_relu,kernel_initializer=initializer),\n",
        "    Dropout(0.2),\n",
        "    Dense(1, activation='sigmoid',kernel_initializer=initializer),\n",
        "])"
      ],
      "execution_count": null,
      "outputs": [
        {
          "output_type": "stream",
          "text": [
            "Using TensorFlow backend.\n"
          ],
          "name": "stderr"
        }
      ]
    },
    {
      "cell_type": "code",
      "metadata": {
        "id": "qPq4JPOrCH6o"
      },
      "source": [
        "model_7.compile(optimizer='adam',\n",
        "              loss='binary_crossentropy',\n",
        "              metrics=['accuracy'])"
      ],
      "execution_count": null,
      "outputs": []
    },
    {
      "cell_type": "code",
      "metadata": {
        "id": "SzYaios6CH6p",
        "outputId": "8d91bfbd-4009-4a0a-fe9e-a9c80cf62c45"
      },
      "source": [
        "model_7.fit(X_train, Y_train,\n",
        "          batch_size=32, epochs=80)"
      ],
      "execution_count": null,
      "outputs": [
        {
          "output_type": "stream",
          "text": [
            "Epoch 1/80\n",
            "2074/2074 [==============================] - 1s 310us/step - loss: 0.4816 - accuracy: 0.7608\n",
            "Epoch 2/80\n",
            "2074/2074 [==============================] - 0s 96us/step - loss: 0.2497 - accuracy: 0.9069\n",
            "Epoch 3/80\n",
            "2074/2074 [==============================] - 0s 96us/step - loss: 0.2154 - accuracy: 0.9224\n",
            "Epoch 4/80\n",
            "2074/2074 [==============================] - 0s 96us/step - loss: 0.1841 - accuracy: 0.9388\n",
            "Epoch 5/80\n",
            "2074/2074 [==============================] - 0s 89us/step - loss: 0.1681 - accuracy: 0.9412\n",
            "Epoch 6/80\n",
            "2074/2074 [==============================] - 0s 96us/step - loss: 0.1531 - accuracy: 0.9446\n",
            "Epoch 7/80\n",
            "2074/2074 [==============================] - 0s 96us/step - loss: 0.1487 - accuracy: 0.9455\n",
            "Epoch 8/80\n",
            "2074/2074 [==============================] - 0s 96us/step - loss: 0.1413 - accuracy: 0.9518\n",
            "Epoch 9/80\n",
            "2074/2074 [==============================] - 0s 96us/step - loss: 0.1341 - accuracy: 0.9489\n",
            "Epoch 10/80\n",
            "2074/2074 [==============================] - 0s 96us/step - loss: 0.1204 - accuracy: 0.9605\n",
            "Epoch 11/80\n",
            "2074/2074 [==============================] - 0s 108us/step - loss: 0.1134 - accuracy: 0.9658\n",
            "Epoch 12/80\n",
            "2074/2074 [==============================] - 0s 147us/step - loss: 0.1070 - accuracy: 0.9638\n",
            "Epoch 13/80\n",
            "2074/2074 [==============================] - 0s 135us/step - loss: 0.0983 - accuracy: 0.9662\n",
            "Epoch 14/80\n",
            "2074/2074 [==============================] - 0s 120us/step - loss: 0.0887 - accuracy: 0.9672\n",
            "Epoch 15/80\n",
            "2074/2074 [==============================] - 0s 108us/step - loss: 0.1004 - accuracy: 0.9638\n",
            "Epoch 16/80\n",
            "2074/2074 [==============================] - 0s 96us/step - loss: 0.0786 - accuracy: 0.9730\n",
            "Epoch 17/80\n",
            "2074/2074 [==============================] - 0s 96us/step - loss: 0.0761 - accuracy: 0.9696\n",
            "Epoch 18/80\n",
            "2074/2074 [==============================] - 0s 104us/step - loss: 0.0871 - accuracy: 0.9701\n",
            "Epoch 19/80\n",
            "2074/2074 [==============================] - 0s 135us/step - loss: 0.0756 - accuracy: 0.9764\n",
            "Epoch 20/80\n",
            "2074/2074 [==============================] - 0s 150us/step - loss: 0.0754 - accuracy: 0.9730\n",
            "Epoch 21/80\n",
            "2074/2074 [==============================] - 0s 112us/step - loss: 0.0791 - accuracy: 0.9730\n",
            "Epoch 22/80\n",
            "2074/2074 [==============================] - 0s 100us/step - loss: 0.0694 - accuracy: 0.9730\n",
            "Epoch 23/80\n",
            "2074/2074 [==============================] - 0s 96us/step - loss: 0.0736 - accuracy: 0.9730\n",
            "Epoch 24/80\n",
            "2074/2074 [==============================] - 0s 104us/step - loss: 0.0614 - accuracy: 0.9778\n",
            "Epoch 25/80\n",
            "2074/2074 [==============================] - 0s 131us/step - loss: 0.0617 - accuracy: 0.9807\n",
            "Epoch 26/80\n",
            "2074/2074 [==============================] - 0s 135us/step - loss: 0.0601 - accuracy: 0.9749\n",
            "Epoch 27/80\n",
            "2074/2074 [==============================] - 0s 112us/step - loss: 0.0709 - accuracy: 0.9769\n",
            "Epoch 28/80\n",
            "2074/2074 [==============================] - 0s 104us/step - loss: 0.0511 - accuracy: 0.9807\n",
            "Epoch 29/80\n",
            "2074/2074 [==============================] - 0s 112us/step - loss: 0.0434 - accuracy: 0.9846\n",
            "Epoch 30/80\n",
            "2074/2074 [==============================] - 0s 108us/step - loss: 0.0497 - accuracy: 0.9812\n",
            "Epoch 31/80\n",
            "2074/2074 [==============================] - 0s 112us/step - loss: 0.0643 - accuracy: 0.9773\n",
            "Epoch 32/80\n",
            "2074/2074 [==============================] - 0s 143us/step - loss: 0.0505 - accuracy: 0.9851\n",
            "Epoch 33/80\n",
            "2074/2074 [==============================] - 0s 131us/step - loss: 0.0377 - accuracy: 0.9855\n",
            "Epoch 34/80\n",
            "2074/2074 [==============================] - 0s 123us/step - loss: 0.0497 - accuracy: 0.9826\n",
            "Epoch 35/80\n",
            "2074/2074 [==============================] - 0s 112us/step - loss: 0.0471 - accuracy: 0.98220s - loss: 0.0503 - accuracy: 0.\n",
            "Epoch 36/80\n",
            "2074/2074 [==============================] - 0s 112us/step - loss: 0.0394 - accuracy: 0.9826\n",
            "Epoch 37/80\n",
            "2074/2074 [==============================] - 0s 112us/step - loss: 0.0428 - accuracy: 0.9860\n",
            "Epoch 38/80\n",
            "2074/2074 [==============================] - 0s 135us/step - loss: 0.0388 - accuracy: 0.9855\n",
            "Epoch 39/80\n",
            "2074/2074 [==============================] - 0s 147us/step - loss: 0.0484 - accuracy: 0.9831\n",
            "Epoch 40/80\n",
            "2074/2074 [==============================] - 0s 123us/step - loss: 0.0338 - accuracy: 0.9894\n",
            "Epoch 41/80\n",
            "2074/2074 [==============================] - 0s 112us/step - loss: 0.0390 - accuracy: 0.9855\n",
            "Epoch 42/80\n",
            "2074/2074 [==============================] - 0s 100us/step - loss: 0.0341 - accuracy: 0.9875\n",
            "Epoch 43/80\n",
            "2074/2074 [==============================] - 0s 100us/step - loss: 0.0349 - accuracy: 0.9860\n",
            "Epoch 44/80\n",
            "2074/2074 [==============================] - 0s 112us/step - loss: 0.0355 - accuracy: 0.9865\n",
            "Epoch 45/80\n",
            "2074/2074 [==============================] - 0s 135us/step - loss: 0.0375 - accuracy: 0.9855\n",
            "Epoch 46/80\n",
            "2074/2074 [==============================] - 0s 139us/step - loss: 0.0273 - accuracy: 0.9899\n",
            "Epoch 47/80\n",
            "2074/2074 [==============================] - 0s 123us/step - loss: 0.0364 - accuracy: 0.9841\n",
            "Epoch 48/80\n",
            "2074/2074 [==============================] - 0s 116us/step - loss: 0.0331 - accuracy: 0.9884\n",
            "Epoch 49/80\n",
            "2074/2074 [==============================] - 0s 127us/step - loss: 0.0413 - accuracy: 0.9860\n",
            "Epoch 50/80\n",
            "2074/2074 [==============================] - 0s 108us/step - loss: 0.0298 - accuracy: 0.9851\n",
            "Epoch 51/80\n",
            "2074/2074 [==============================] - 0s 139us/step - loss: 0.0269 - accuracy: 0.9894\n",
            "Epoch 52/80\n",
            "2074/2074 [==============================] - 0s 143us/step - loss: 0.0359 - accuracy: 0.9860\n",
            "Epoch 53/80\n",
            "2074/2074 [==============================] - 0s 116us/step - loss: 0.0287 - accuracy: 0.9894\n",
            "Epoch 54/80\n",
            "2074/2074 [==============================] - 0s 108us/step - loss: 0.0378 - accuracy: 0.9865\n",
            "Epoch 55/80\n",
            "2074/2074 [==============================] - 0s 96us/step - loss: 0.0271 - accuracy: 0.9904\n",
            "Epoch 56/80\n",
            "2074/2074 [==============================] - 0s 135us/step - loss: 0.0261 - accuracy: 0.9913\n",
            "Epoch 57/80\n",
            "2074/2074 [==============================] - 0s 158us/step - loss: 0.0342 - accuracy: 0.9879\n",
            "Epoch 58/80\n",
            "2074/2074 [==============================] - 0s 108us/step - loss: 0.0325 - accuracy: 0.9884\n",
            "Epoch 59/80\n",
            "2074/2074 [==============================] - 0s 104us/step - loss: 0.0286 - accuracy: 0.9884\n",
            "Epoch 60/80\n",
            "2074/2074 [==============================] - 0s 150us/step - loss: 0.0405 - accuracy: 0.9846\n",
            "Epoch 61/80\n",
            "2074/2074 [==============================] - 0s 139us/step - loss: 0.0200 - accuracy: 0.9923\n",
            "Epoch 62/80\n",
            "2074/2074 [==============================] - 0s 147us/step - loss: 0.0253 - accuracy: 0.9904\n",
            "Epoch 63/80\n",
            "2074/2074 [==============================] - 0s 147us/step - loss: 0.0273 - accuracy: 0.9913\n",
            "Epoch 64/80\n",
            "2074/2074 [==============================] - 0s 131us/step - loss: 0.0247 - accuracy: 0.9923\n",
            "Epoch 65/80\n",
            "2074/2074 [==============================] - 0s 135us/step - loss: 0.0297 - accuracy: 0.9889\n",
            "Epoch 66/80\n",
            "2074/2074 [==============================] - 0s 135us/step - loss: 0.0412 - accuracy: 0.9831\n",
            "Epoch 67/80\n",
            "2074/2074 [==============================] - 0s 135us/step - loss: 0.0225 - accuracy: 0.9928\n",
            "Epoch 68/80\n",
            "2074/2074 [==============================] - 0s 123us/step - loss: 0.0210 - accuracy: 0.9918\n",
            "Epoch 69/80\n",
            "2074/2074 [==============================] - 0s 139us/step - loss: 0.0294 - accuracy: 0.9937\n",
            "Epoch 70/80\n",
            "2074/2074 [==============================] - 0s 116us/step - loss: 0.0352 - accuracy: 0.9899\n",
            "Epoch 71/80\n",
            "2074/2074 [==============================] - 0s 150us/step - loss: 0.0129 - accuracy: 0.9942\n",
            "Epoch 72/80\n",
            "2074/2074 [==============================] - 0s 139us/step - loss: 0.0306 - accuracy: 0.9908\n",
            "Epoch 73/80\n",
            "2074/2074 [==============================] - 0s 104us/step - loss: 0.0194 - accuracy: 0.9923\n",
            "Epoch 74/80\n",
            "2074/2074 [==============================] - 0s 100us/step - loss: 0.0234 - accuracy: 0.9928\n",
            "Epoch 75/80\n",
            "2074/2074 [==============================] - 0s 108us/step - loss: 0.0268 - accuracy: 0.9889\n",
            "Epoch 76/80\n",
            "2074/2074 [==============================] - 0s 108us/step - loss: 0.0257 - accuracy: 0.9913\n",
            "Epoch 77/80\n",
            "2074/2074 [==============================] - 0s 104us/step - loss: 0.0197 - accuracy: 0.9942\n",
            "Epoch 78/80\n",
            "2074/2074 [==============================] - 0s 112us/step - loss: 0.0207 - accuracy: 0.9942\n",
            "Epoch 79/80\n",
            "2074/2074 [==============================] - 0s 150us/step - loss: 0.0273 - accuracy: 0.9899\n",
            "Epoch 80/80\n",
            "2074/2074 [==============================] - 0s 158us/step - loss: 0.0208 - accuracy: 0.9952\n"
          ],
          "name": "stdout"
        },
        {
          "output_type": "execute_result",
          "data": {
            "text/plain": [
              "<keras.callbacks.callbacks.History at 0x22dd4282eb8>"
            ]
          },
          "metadata": {
            "tags": []
          },
          "execution_count": 28
        }
      ]
    },
    {
      "cell_type": "code",
      "metadata": {
        "id": "rryAErRmCH6r",
        "outputId": "56f94fb7-f1b4-4d09-c1c7-5850832e7ce2"
      },
      "source": [
        "model_7.evaluate(X_test, Y_test)[1]"
      ],
      "execution_count": null,
      "outputs": [
        {
          "output_type": "stream",
          "text": [
            "889/889 [==============================] - 0s 218us/step\n"
          ],
          "name": "stdout"
        },
        {
          "output_type": "execute_result",
          "data": {
            "text/plain": [
              "0.974128246307373"
            ]
          },
          "metadata": {
            "tags": []
          },
          "execution_count": 29
        }
      ]
    },
    {
      "cell_type": "code",
      "metadata": {
        "id": "Ms5PZYiLCH6t"
      },
      "source": [
        "#Testing class\n",
        "y_pred = model_7.predict_classes(X_test)\n",
        "#Training class\n",
        "Y_pred = model_7.predict_classes(X_train)"
      ],
      "execution_count": null,
      "outputs": []
    },
    {
      "cell_type": "code",
      "metadata": {
        "id": "326rJb63CH6t",
        "outputId": "bb51b9a5-dfa5-4781-9551-1c61f8a78a83"
      },
      "source": [
        "from sklearn.metrics import confusion_matrix, precision_score, recall_score, f1_score, cohen_kappa_score\n",
        "from sklearn.metrics import log_loss\n",
        "# Confusion Matrix -- Testing Class\n",
        "confusion_matrix(Y_test, y_pred)"
      ],
      "execution_count": null,
      "outputs": [
        {
          "output_type": "execute_result",
          "data": {
            "text/plain": [
              "array([[392,  20],\n",
              "       [  3, 474]], dtype=int64)"
            ]
          },
          "metadata": {
            "tags": []
          },
          "execution_count": 31
        }
      ]
    },
    {
      "cell_type": "code",
      "metadata": {
        "id": "Zd7BoEIHCH6u",
        "outputId": "6815d95d-b19e-41ec-e9fc-2a0d97292bfe"
      },
      "source": [
        "# Confusion matrix -- training class\n",
        "confusion_matrix(Y_train, Y_pred)"
      ],
      "execution_count": null,
      "outputs": [
        {
          "output_type": "execute_result",
          "data": {
            "text/plain": [
              "array([[ 932,    2],\n",
              "       [   0, 1140]], dtype=int64)"
            ]
          },
          "metadata": {
            "tags": []
          },
          "execution_count": 32
        }
      ]
    },
    {
      "cell_type": "code",
      "metadata": {
        "id": "lZUe5oA7CH6u",
        "outputId": "236f37ae-d549-4459-a758-900c111f9332"
      },
      "source": [
        "print(\"Testing Class Evaluation Metrics\\n\")\n",
        "print(\"Testing Precision Score = \",precision_score(Y_test, y_pred))\n",
        "print(\"Testing Recall Score = \",recall_score(Y_test, y_pred))\n",
        "print(\"Testing F1 Score = \",f1_score(Y_test, y_pred))\n",
        "print(\"Testing Cohen Kappa Score = \",cohen_kappa_score(Y_test, y_pred))\n",
        "print(\"Testing Loss = \",log_loss(Y_test, y_pred))"
      ],
      "execution_count": null,
      "outputs": [
        {
          "output_type": "stream",
          "text": [
            "Testing Class Evaluation Metrics\n",
            "\n",
            "Testing Precision Score =  0.9595141700404858\n",
            "Testing Recall Score =  0.9937106918238994\n",
            "Testing F1 Score =  0.976313079299691\n",
            "Testing Cohen Kappa Score =  0.9478317000176046\n",
            "Testing Loss =  0.8935971305191793\n"
          ],
          "name": "stdout"
        }
      ]
    },
    {
      "cell_type": "code",
      "metadata": {
        "id": "eLo-y0KkCH6v",
        "outputId": "e49c1326-87ad-44bc-aaed-803f099ad3c3"
      },
      "source": [
        "print(\"Training Class Evaluation Metrics\\n\")\n",
        "print(\"Training Precision Score = \",precision_score(Y_train, Y_pred))\n",
        "print(\"Training Recall Score = \",recall_score(Y_train, Y_pred))\n",
        "print(\"Training F1 Score = \",f1_score(Y_train, Y_pred))\n",
        "print(\"Training Cohen Kappa Score = \",cohen_kappa_score(Y_train, Y_pred))\n",
        "print(\"Training Loss = \",log_loss(Y_train, Y_pred))"
      ],
      "execution_count": null,
      "outputs": [
        {
          "output_type": "stream",
          "text": [
            "Training Class Evaluation Metrics\n",
            "\n",
            "Training Precision Score =  0.9982486865148862\n",
            "Training Recall Score =  1.0\n",
            "Training F1 Score =  0.9991235758106924\n",
            "Training Cohen Kappa Score =  0.9980517662795875\n",
            "Training Loss =  0.033307209250088635\n"
          ],
          "name": "stdout"
        }
      ]
    },
    {
      "cell_type": "code",
      "metadata": {
        "id": "5PXb2XyLCH6v",
        "outputId": "af3371d4-023f-42fd-c4d3-36405bf98ef0"
      },
      "source": [
        "model_7.evaluate(X_train, Y_train)[1]"
      ],
      "execution_count": null,
      "outputs": [
        {
          "output_type": "stream",
          "text": [
            "2074/2074 [==============================] - 0s 23us/step\n"
          ],
          "name": "stdout"
        },
        {
          "output_type": "execute_result",
          "data": {
            "text/plain": [
              "0.999035656452179"
            ]
          },
          "metadata": {
            "tags": []
          },
          "execution_count": 35
        }
      ]
    },
    {
      "cell_type": "markdown",
      "metadata": {
        "id": "XkckgdpaCH6w"
      },
      "source": [
        "# He Normal Initialization with Leaky Relu and Sigmoid, including Dropout"
      ]
    },
    {
      "cell_type": "code",
      "metadata": {
        "id": "WusH7olBCH6w",
        "outputId": "1b0d9fc7-3f62-4d70-d692-6bfdad1667f2"
      },
      "source": [
        "from keras.models import Sequential\n",
        "from keras.layers import Dense\n",
        "from keras.initializers import he_normal\n",
        "from keras.layers import Dropout\n",
        "from keras.layers.advanced_activations import LeakyReLU, PReLU\n",
        "initializer = he_normal()\n",
        "leaky_relu = LeakyReLU(alpha=0.01)\n",
        "model_7= Sequential([\n",
        "    Dense(100, input_shape=(28,),kernel_initializer=initializer),\n",
        "    Dropout(0.2),\n",
        "    Dense(100, activation=leaky_relu,kernel_initializer=initializer),\n",
        "    Dropout(0.2),\n",
        "    Dense(100, activation=leaky_relu,kernel_initializer=initializer),\n",
        "    Dropout(0.2),\n",
        "    Dense(100, activation=leaky_relu,kernel_initializer=initializer),\n",
        "    Dropout(0.2),\n",
        "    Dense(100, activation=leaky_relu,kernel_initializer=initializer),\n",
        "    Dropout(0.2),\n",
        "    Dense(100, activation=leaky_relu,kernel_initializer=initializer),\n",
        "    Dropout(0.2),\n",
        "    Dense(1, activation='sigmoid',kernel_initializer=initializer),\n",
        "])"
      ],
      "execution_count": null,
      "outputs": [
        {
          "output_type": "stream",
          "text": [
            "Using TensorFlow backend.\n"
          ],
          "name": "stderr"
        }
      ]
    },
    {
      "cell_type": "code",
      "metadata": {
        "id": "gVI9QSHTCH6x"
      },
      "source": [
        "model_7.compile(optimizer='adam',\n",
        "              loss='binary_crossentropy',\n",
        "              metrics=['accuracy'])"
      ],
      "execution_count": null,
      "outputs": []
    },
    {
      "cell_type": "code",
      "metadata": {
        "id": "XJ3b1rNbCH6x",
        "outputId": "0569c58d-6c6f-48e0-85d9-c879044a2353"
      },
      "source": [
        "model_7.fit(X_train, Y_train,\n",
        "          batch_size=32, epochs=70)"
      ],
      "execution_count": null,
      "outputs": [
        {
          "output_type": "stream",
          "text": [
            "Epoch 1/14\n",
            "2074/2074 [==============================] - 0s 96us/step - loss: 0.0448 - accuracy: 0.9812\n",
            "Epoch 2/14\n",
            "2074/2074 [==============================] - 0s 96us/step - loss: 0.0542 - accuracy: 0.9793\n",
            "Epoch 3/14\n",
            "2074/2074 [==============================] - 0s 96us/step - loss: 0.0578 - accuracy: 0.9802\n",
            "Epoch 4/14\n",
            "2074/2074 [==============================] - 0s 96us/step - loss: 0.0567 - accuracy: 0.9788\n",
            "Epoch 5/14\n",
            "2074/2074 [==============================] - 0s 96us/step - loss: 0.0484 - accuracy: 0.9826\n",
            "Epoch 6/14\n",
            "2074/2074 [==============================] - 0s 96us/step - loss: 0.0508 - accuracy: 0.9822\n",
            "Epoch 7/14\n",
            "2074/2074 [==============================] - 0s 96us/step - loss: 0.0491 - accuracy: 0.9855\n",
            "Epoch 8/14\n",
            "2074/2074 [==============================] - 0s 104us/step - loss: 0.0455 - accuracy: 0.9851\n",
            "Epoch 9/14\n",
            "2074/2074 [==============================] - 0s 96us/step - loss: 0.0501 - accuracy: 0.9831\n",
            "Epoch 10/14\n",
            "2074/2074 [==============================] - 0s 96us/step - loss: 0.0529 - accuracy: 0.9797\n",
            "Epoch 11/14\n",
            "2074/2074 [==============================] - 0s 93us/step - loss: 0.0370 - accuracy: 0.9855\n",
            "Epoch 12/14\n",
            "2074/2074 [==============================] - 0s 96us/step - loss: 0.0408 - accuracy: 0.9865\n",
            "Epoch 13/14\n",
            "2074/2074 [==============================] - 0s 93us/step - loss: 0.0332 - accuracy: 0.9889\n",
            "Epoch 14/14\n",
            "2074/2074 [==============================] - 0s 96us/step - loss: 0.0508 - accuracy: 0.9807\n"
          ],
          "name": "stdout"
        },
        {
          "output_type": "execute_result",
          "data": {
            "text/plain": [
              "<keras.callbacks.callbacks.History at 0x15df8d9e9b0>"
            ]
          },
          "metadata": {
            "tags": []
          },
          "execution_count": 36
        }
      ]
    },
    {
      "cell_type": "code",
      "metadata": {
        "id": "DKwTdVknCH63",
        "outputId": "8e5daa6e-feb1-43da-f3f4-2ea12b95af07"
      },
      "source": [
        "model_7.evaluate(X_test, Y_test)[1]"
      ],
      "execution_count": null,
      "outputs": [
        {
          "output_type": "stream",
          "text": [
            "889/889 [==============================] - 0s 36us/step\n"
          ],
          "name": "stdout"
        },
        {
          "output_type": "execute_result",
          "data": {
            "text/plain": [
              "0.9853768348693848"
            ]
          },
          "metadata": {
            "tags": []
          },
          "execution_count": 37
        }
      ]
    },
    {
      "cell_type": "code",
      "metadata": {
        "id": "cBdW0jThCH64",
        "outputId": "d79a3145-177d-42c5-d411-9ceeb1cfc272"
      },
      "source": [
        "model_7.summary()"
      ],
      "execution_count": null,
      "outputs": [
        {
          "output_type": "stream",
          "text": [
            "Model: \"sequential_1\"\n",
            "_________________________________________________________________\n",
            "Layer (type)                 Output Shape              Param #   \n",
            "=================================================================\n",
            "dense_1 (Dense)              (None, 100)               2900      \n",
            "_________________________________________________________________\n",
            "dropout_1 (Dropout)          (None, 100)               0         \n",
            "_________________________________________________________________\n",
            "dense_2 (Dense)              (None, 100)               10100     \n",
            "_________________________________________________________________\n",
            "dropout_2 (Dropout)          (None, 100)               0         \n",
            "_________________________________________________________________\n",
            "dense_3 (Dense)              (None, 100)               10100     \n",
            "_________________________________________________________________\n",
            "dropout_3 (Dropout)          (None, 100)               0         \n",
            "_________________________________________________________________\n",
            "dense_4 (Dense)              (None, 100)               10100     \n",
            "_________________________________________________________________\n",
            "dropout_4 (Dropout)          (None, 100)               0         \n",
            "_________________________________________________________________\n",
            "dense_5 (Dense)              (None, 100)               10100     \n",
            "_________________________________________________________________\n",
            "dropout_5 (Dropout)          (None, 100)               0         \n",
            "_________________________________________________________________\n",
            "dense_6 (Dense)              (None, 100)               10100     \n",
            "_________________________________________________________________\n",
            "dropout_6 (Dropout)          (None, 100)               0         \n",
            "_________________________________________________________________\n",
            "dense_7 (Dense)              (None, 1)                 101       \n",
            "=================================================================\n",
            "Total params: 53,501\n",
            "Trainable params: 53,501\n",
            "Non-trainable params: 0\n",
            "_________________________________________________________________\n"
          ],
          "name": "stdout"
        }
      ]
    },
    {
      "cell_type": "code",
      "metadata": {
        "id": "jPfLFwLZCH64"
      },
      "source": [
        "#Testing class\n",
        "y_pred = model_7.predict_classes(X_test)\n",
        "#Training class\n",
        "Y_pred = model_7.predict_classes(X_train)"
      ],
      "execution_count": null,
      "outputs": []
    },
    {
      "cell_type": "code",
      "metadata": {
        "id": "r4qeF_yBCH66",
        "outputId": "d3e31083-25f3-492b-f382-d5d7ba59c317"
      },
      "source": [
        "from sklearn.metrics import confusion_matrix, precision_score, recall_score, f1_score, cohen_kappa_score\n",
        "from sklearn.metrics import log_loss\n",
        "# Confusion Matrix -- Testing Class\n",
        "confusion_matrix(Y_test, y_pred)"
      ],
      "execution_count": null,
      "outputs": [
        {
          "output_type": "execute_result",
          "data": {
            "text/plain": [
              "array([[390,   7],\n",
              "       [  6, 486]], dtype=int64)"
            ]
          },
          "metadata": {
            "tags": []
          },
          "execution_count": 41
        }
      ]
    },
    {
      "cell_type": "code",
      "metadata": {
        "id": "hG3nU-lyCH67",
        "outputId": "74ff5edc-c5d2-44dd-eaef-309d97ef6ca6"
      },
      "source": [
        "# Confusion matrix -- training class\n",
        "confusion_matrix(Y_train, Y_pred)"
      ],
      "execution_count": null,
      "outputs": [
        {
          "output_type": "execute_result",
          "data": {
            "text/plain": [
              "array([[ 948,    1],\n",
              "       [   1, 1124]], dtype=int64)"
            ]
          },
          "metadata": {
            "tags": []
          },
          "execution_count": 42
        }
      ]
    },
    {
      "cell_type": "code",
      "metadata": {
        "id": "8WYZ9_6vCH67",
        "outputId": "d96527af-583b-416d-b103-110abc1ea26b"
      },
      "source": [
        "print(\"Testing Class Evaluation Metrics\\n\")\n",
        "print(\"Testing Precision Score = \",precision_score(Y_test, y_pred))\n",
        "print(\"Testing Recall Score = \",recall_score(Y_test, y_pred))\n",
        "print(\"Testing F1 Score = \",f1_score(Y_test, y_pred))\n",
        "print(\"Testing Cohen Kappa Score = \",cohen_kappa_score(Y_test, y_pred))\n",
        "print(\"Testing Loss = \",log_loss(Y_test, y_pred))"
      ],
      "execution_count": null,
      "outputs": [
        {
          "output_type": "stream",
          "text": [
            "Testing Class Evaluation Metrics\n",
            "\n",
            "Testing Precision Score =  0.9858012170385395\n",
            "Testing Recall Score =  0.9878048780487805\n",
            "Testing F1 Score =  0.9868020304568528\n",
            "Testing Cohen Kappa Score =  0.9704086257178923\n",
            "Testing Loss =  0.5050727675093938\n"
          ],
          "name": "stdout"
        }
      ]
    },
    {
      "cell_type": "code",
      "metadata": {
        "id": "XLdMVKOUCH67",
        "outputId": "e33e5963-0986-4d03-ff9a-ca3de5c611ec"
      },
      "source": [
        "print(\"Training Class Evaluation Metrics\\n\")\n",
        "print(\"Training Precision Score = \",precision_score(Y_train, Y_pred))\n",
        "print(\"Training Recall Score = \",recall_score(Y_train, Y_pred))\n",
        "print(\"Training F1 Score = \",f1_score(Y_train, Y_pred))\n",
        "print(\"Training Cohen Kappa Score = \",cohen_kappa_score(Y_train, Y_pred))\n",
        "print(\"Training Loss = \",log_loss(Y_train, Y_pred))"
      ],
      "execution_count": null,
      "outputs": [
        {
          "output_type": "stream",
          "text": [
            "Training Class Evaluation Metrics\n",
            "\n",
            "Training Precision Score =  0.9991111111111111\n",
            "Training Recall Score =  0.9991111111111111\n",
            "Training F1 Score =  0.9991111111111111\n",
            "Training Cohen Kappa Score =  0.9980573703313429\n",
            "Training Loss =  0.03330682371613\n"
          ],
          "name": "stdout"
        }
      ]
    },
    {
      "cell_type": "code",
      "metadata": {
        "id": "_QfaAELRCH68",
        "outputId": "1084077e-39fa-463c-d8a3-615019cb39af"
      },
      "source": [
        "model_7.evaluate(X_train, Y_train)[1]"
      ],
      "execution_count": null,
      "outputs": [
        {
          "output_type": "stream",
          "text": [
            "2074/2074 [==============================] - 0s 27us/step\n"
          ],
          "name": "stdout"
        },
        {
          "output_type": "execute_result",
          "data": {
            "text/plain": [
              "0.999035656452179"
            ]
          },
          "metadata": {
            "tags": []
          },
          "execution_count": 45
        }
      ]
    },
    {
      "cell_type": "code",
      "metadata": {
        "id": "xzhoC1mRCH68",
        "outputId": "0c0d0d5c-a95f-47a1-e257-b7f21ace4b54"
      },
      "source": [
        "from sklearn.metrics import confusion_matrix\n",
        "from matplotlib import pyplot as plt\n",
        "\n",
        "conf_mat = confusion_matrix(y_true=Y_test, y_pred=y_pred)\n",
        "print('Confusion matrix:\\n', conf_mat)\n",
        "\n",
        "labels = ['Class 0', 'Class 1']\n",
        "fig = plt.figure()\n",
        "ax = fig.add_subplot(111)\n",
        "cax = ax.matshow(conf_mat, cmap=plt.cm.Blues)\n",
        "fig.colorbar(cax)\n",
        "ax.set_xticklabels([''] + labels)\n",
        "ax.set_yticklabels([''] + labels)\n",
        "plt.xlabel('Predicted')\n",
        "plt.ylabel('Expected')\n",
        "plt.show()"
      ],
      "execution_count": null,
      "outputs": [
        {
          "output_type": "stream",
          "text": [
            "Confusion matrix:\n",
            " [[390   7]\n",
            " [  6 486]]\n"
          ],
          "name": "stdout"
        },
        {
          "output_type": "display_data",
          "data": {
            "image/png": "[encoded data removed]",
            "text/plain": [
              "<matplotlib.figure.Figure at 0x15df8fcacf8>"
            ]
          },
          "metadata": {
            "tags": []
          }
        }
      ]
    },
    {
      "cell_type": "code",
      "metadata": {
        "id": "NGCov-IICH68",
        "outputId": "b98ac601-83d1-40df-b2f9-3a7eb6eaa4f9"
      },
      "source": [
        "from sklearn.metrics import confusion_matrix\n",
        "from matplotlib import pyplot as plt\n",
        "\n",
        "conf_mat = confusion_matrix(y_true=Y_train, y_pred=Y_pred)\n",
        "print('Confusion matrix:\\n', conf_mat)\n",
        "\n",
        "labels = ['Class 0', 'Class 1']\n",
        "fig = plt.figure()\n",
        "ax = fig.add_subplot(111)\n",
        "cax = ax.matshow(conf_mat, cmap=plt.cm.Blues)\n",
        "fig.colorbar(cax)\n",
        "ax.set_xticklabels([''] + labels)\n",
        "ax.set_yticklabels([''] + labels)\n",
        "plt.xlabel('Predicted')\n",
        "plt.ylabel('Expected')\n",
        "plt.show()"
      ],
      "execution_count": null,
      "outputs": [
        {
          "output_type": "stream",
          "text": [
            "Confusion matrix:\n",
            " [[ 948    1]\n",
            " [   1 1124]]\n"
          ],
          "name": "stdout"
        },
        {
          "output_type": "display_data",
          "data": {
            "image/png": "[encoded data removed]",
            "text/plain": [
              "<matplotlib.figure.Figure at 0x15df8fb4d30>"
            ]
          },
          "metadata": {
            "tags": []
          }
        }
      ]
    },
    {
      "cell_type": "code",
      "metadata": {
        "id": "6O1iOCEOCH68"
      },
      "source": [
        ""
      ],
      "execution_count": null,
      "outputs": []
    }
  ]
}